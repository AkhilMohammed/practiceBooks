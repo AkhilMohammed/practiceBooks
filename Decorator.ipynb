{
 "cells": [
  {
   "cell_type": "markdown",
   "id": "d75c0c11",
   "metadata": {},
   "source": [
    "# decorator \n",
    "\n",
    "A decorotar is a function which takes function as parameter and extends itd behaviour without changing the orginal functionality explicitly\n",
    "\n",
    "\n"
   ]
  },
  {
   "cell_type": "code",
   "execution_count": 1,
   "id": "948ab37e",
   "metadata": {},
   "outputs": [],
   "source": [
    "# sample decorator example\n",
    "def net_price(price, tax):\n",
    "    \"\"\" calculate the net price from price and tax\n",
    "    Arguments:\n",
    "        price: the selling price\n",
    "        tax: value added tax or sale tax\n",
    "    Return\n",
    "        the net price\n",
    "    \"\"\"\n",
    "    return price * (1 + tax)\n",
    "# the net price is function which takes price and tax as param and returns a number of price with taxes"
   ]
  },
  {
   "cell_type": "code",
   "execution_count": 2,
   "id": "d216791f",
   "metadata": {},
   "outputs": [],
   "source": [
    "# suppose that you need to make the value to the string i,e (100 to 100 rs) we can do it using decorator\n",
    "def currency(fn):\n",
    "    pass\n",
    "# by definition decorator is a function which takes function as parameter\n"
   ]
  },
  {
   "cell_type": "code",
   "execution_count": 3,
   "id": "a9ddfef2",
   "metadata": {},
   "outputs": [],
   "source": [
    "#and returns other function\n",
    "def currency(fn):\n",
    "    def wrapper(*args, **kwargs):\n",
    "        fn(*args, **kwargs)\n",
    "        \n",
    "    return wrapper\n",
    "#the currency function returns wrapper function the wrapper function takes params as *args and **kwargs which is any values can be sent as params\n",
    "# in this function the wrapper function essentially executes the fn function directly and doesent change any behaviour of the fn function.\n",
    "\n"
   ]
  },
  {
   "cell_type": "code",
   "execution_count": 4,
   "id": "06ecf566",
   "metadata": {},
   "outputs": [],
   "source": [
    "# In the wrapper function you can call the function fn, get its result and format the result as a currency string\n",
    "def currency(fn):\n",
    "    def wrapper(*args, **kwargs):\n",
    "        result = fn(*args, **kwargs)\n",
    "        return f'${result}'\n",
    "    return wrapper"
   ]
  },
  {
   "cell_type": "code",
   "execution_count": 5,
   "id": "524671bb",
   "metadata": {},
   "outputs": [
    {
     "name": "stdout",
     "output_type": "stream",
     "text": [
      "$105.0\n"
     ]
    }
   ],
   "source": [
    "# the currency is decorator which accepts a function as param\n",
    "# it accept any function that returns a number which can be converted to string\n",
    "#To use the currency decorator, you need to pass the net_price function to it to get a new function and execute the new function as if it were the original function. For example:\n",
    "net_price = currency(net_price)\n",
    "print(net_price(100, 0.05))"
   ]
  },
  {
   "cell_type": "markdown",
   "id": "59d97411",
   "metadata": {},
   "source": [
    "# Python decorator definition\n",
    "\n",
    "In general, a decorator is:\n",
    "\n",
    "    A function that takes another function (original function) as an argument and returns another function (or closure)\n",
    "    The closure typically accepts any combination of positional and keyword-only arguments.\n",
    "    The closure function calls the original function using the arguments passed to the closure and returns the result of the function.\n",
    "\n",
    "The inner function is a closure because it references the fn argument from its enclosing scope, or the decorator function."
   ]
  },
  {
   "cell_type": "code",
   "execution_count": 9,
   "id": "72c31015",
   "metadata": {},
   "outputs": [
    {
     "name": "stdout",
     "output_type": "stream",
     "text": [
      "l1\n",
      "l2\n",
      "l3\n",
      "l4\n",
      "l5\n",
      "$105.0\n"
     ]
    }
   ],
   "source": [
    "def currency(fn):\n",
    "    print(\"l1\")\n",
    "    def wrapper(*args, **kwargs):\n",
    "        print(\"l3\")\n",
    "        result = fn(*args, **kwargs)\n",
    "        print(\"l5\")\n",
    "        return f'${result}'\n",
    "    print(\"l2\")\n",
    "    return wrapper\n",
    "    print(\"l6\")\n",
    "\n",
    "\n",
    "@currency\n",
    "def net_price(price, tax):\n",
    "    print(\"l4\")\n",
    "    \"\"\" calculate the net price from price and tax\n",
    "    Arguments:\n",
    "        price: the selling price\n",
    "        tax: value added tax or sale tax\n",
    "    Return\n",
    "        the net price\n",
    "    \"\"\"\n",
    "    return price * (1 + tax)\n",
    "\n",
    "\n",
    "print(net_price(100, 0.05))"
   ]
  },
  {
   "cell_type": "markdown",
   "id": "38783b40",
   "metadata": {},
   "source": [
    "# when you decorate a function\n",
    "@ decorate\n",
    "def fn(*args,**kwargs):\n",
    "    pass\n",
    "    \n",
    "its equivalent to \n",
    "fn = decorate(fn)\n",
    "\n",
    "If you use the built-in help function to show the documentation of the new function, you won’t see the documentation of the original function. For example:"
   ]
  },
  {
   "cell_type": "code",
   "execution_count": 11,
   "id": "cd007738",
   "metadata": {},
   "outputs": [
    {
     "name": "stdout",
     "output_type": "stream",
     "text": [
      "Help on function wrapper in module __main__:\n",
      "\n",
      "wrapper(*args, **kwargs)\n",
      "\n"
     ]
    }
   ],
   "source": [
    "help(net_price)"
   ]
  },
  {
   "cell_type": "code",
   "execution_count": 12,
   "id": "094437d7",
   "metadata": {},
   "outputs": [
    {
     "name": "stdout",
     "output_type": "stream",
     "text": [
      "wrapper\n"
     ]
    }
   ],
   "source": [
    "# also\n",
    "print(net_price.__name__)"
   ]
  },
  {
   "cell_type": "code",
   "execution_count": 13,
   "id": "c9fbd22a",
   "metadata": {},
   "outputs": [
    {
     "name": "stdout",
     "output_type": "stream",
     "text": [
      "Help on function net_price in module __main__:\n",
      "\n",
      "net_price(price, tax)\n",
      "    calculate the net price from price and tax\n",
      "    Arguments:\n",
      "        price: the selling price\n",
      "        tax: value added tax or sale tax\n",
      "    Return\n",
      "        the net price\n",
      "\n",
      "net_price\n"
     ]
    }
   ],
   "source": [
    "# so when you decorate a function you will lose the orginal function signature and also the documentation\n",
    "# to fix this we can use wrap function from the function tools \n",
    "from functools import wraps\n",
    "\n",
    "\n",
    "def currency(fn):\n",
    "    @wraps(fn)\n",
    "    def wrapper(*args, **kwargs):\n",
    "        result = fn(*args, **kwargs)\n",
    "        return f'${result}'\n",
    "    return wrapper\n",
    "\n",
    "\n",
    "@currency\n",
    "def net_price(price, tax):\n",
    "    \"\"\" calculate the net price from price and tax\n",
    "    Arguments:\n",
    "        price: the selling price\n",
    "        tax: value added tax or sale tax\n",
    "    Return\n",
    "        the net price\n",
    "    \"\"\"\n",
    "    return price * (1 + tax)\n",
    "\n",
    "\n",
    "help(net_price)\n",
    "print(net_price.__name__)\n"
   ]
  },
  {
   "cell_type": "markdown",
   "id": "839a5584",
   "metadata": {},
   "source": [
    "Summary\n",
    "\n",
    "    A decorator is a function that changes the behavior of another function without explicitly modifying it.\n",
    "    Use the @ symbol to decorate a function.\n",
    "    Use the wraps function from the functools built-in module to retain the documentation and name of the original function."
   ]
  },
  {
   "cell_type": "markdown",
   "id": "2eeddc29",
   "metadata": {},
   "source": [
    "# inroduction to python decorator with arguements\n",
    "\n",
    "suppose that you have a function called say print hello 5 times \n"
   ]
  },
  {
   "cell_type": "code",
   "execution_count": 15,
   "id": "87241db7",
   "metadata": {},
   "outputs": [
    {
     "name": "stdout",
     "output_type": "stream",
     "text": [
      "hi\n"
     ]
    }
   ],
   "source": [
    "def say(message):\n",
    "    ''' print the message \n",
    "    Arguments\n",
    "        message: the message to show\n",
    "    '''\n",
    "    print(message)\n",
    "    \n",
    "# and you want to execute this for 5 times\n",
    "say('hi')"
   ]
  },
  {
   "cell_type": "markdown",
   "id": "2fadc6e9",
   "metadata": {},
   "source": [
    "# to do that you can make use of decorator\n",
    "@repeat\n",
    "\n",
    "def say(message):\n",
    "    \n",
    "    ''' print the message \n",
    "    Arguments\n",
    "        message: the message to show\n",
    "    '''\n",
    "    print(message)\n"
   ]
  },
  {
   "cell_type": "code",
   "execution_count": 17,
   "id": "8fdd1445",
   "metadata": {},
   "outputs": [],
   "source": [
    "def repeat(fn):\n",
    "    @wraps(fn)\n",
    "    def wrapper(*args, **kwargs):\n",
    "        for _ in range(5):\n",
    "            result = fn(*args, **kwargs)\n",
    "        return result\n",
    "\n",
    "    return wrapper    "
   ]
  },
  {
   "cell_type": "code",
   "execution_count": 18,
   "id": "9efb657c",
   "metadata": {},
   "outputs": [
    {
     "name": "stdout",
     "output_type": "stream",
     "text": [
      "Hello\n",
      "Hello\n",
      "Hello\n",
      "Hello\n",
      "Hello\n"
     ]
    }
   ],
   "source": [
    "from functools import wraps\n",
    "\n",
    "def repeat(fn):\n",
    "    @wraps(fn)\n",
    "    def wrapper(*args, **kwargs):\n",
    "        for _ in range(5):\n",
    "            result = fn(*args, **kwargs)\n",
    "        return result\n",
    "\n",
    "    return wrapper\n",
    "\n",
    "\n",
    "@repeat\n",
    "def say(message):\n",
    "    ''' print the message \n",
    "    Arguments\n",
    "        message: the message to show\n",
    "    '''\n",
    "    print(message)\n",
    "\n",
    "\n",
    "say('Hello')"
   ]
  },
  {
   "cell_type": "markdown",
   "id": "a9d67bbc",
   "metadata": {},
   "source": [
    "what if you want to execute the say() function repeatedly ten times. In this case, you need to change the hard-coded value 5 in the repeat decorator.\n",
    "\n",
    "However, this solution isn’t flexible. For example, you want to use the repeat decorator to execute a function 5 times and another 10 times. The repeat decorator would not meet the requirement.\n",
    "\n",
    "To fix this, you need to change the repeat decorator so that it accepts an argument that specifies the number of times a function should execute like this:"
   ]
  },
  {
   "cell_type": "code",
   "execution_count": 34,
   "id": "d811bf15",
   "metadata": {},
   "outputs": [
    {
     "name": "stdout",
     "output_type": "stream",
     "text": [
      "l1\n",
      "l2\n",
      "l9\n",
      "l4\n",
      "l5\n",
      "l6\n",
      "l7\n",
      "l5\n",
      "l6\n",
      "l7\n",
      "l5\n",
      "l6\n",
      "l7\n",
      "l8\n",
      "***********8\n",
      "Help on function say in module __main__:\n",
      "\n",
      "say(message)\n",
      "\n",
      "Help on function repeat in module __main__:\n",
      "\n",
      "repeat(times)\n",
      "\n",
      "['Hello', 'Hello', 'Hello']\n"
     ]
    }
   ],
   "source": [
    "# code for it\n",
    "from functools import wraps\n",
    "\n",
    "\n",
    "def repeat(times):\n",
    "    print(\"l1\")\n",
    "    lis = []\n",
    "    ''' call a function a number of times '''\n",
    "    def decorate(fn):\n",
    "        print(\"l2\")\n",
    "        @wraps(fn)\n",
    "        def wrapper(*args, **kwargs):\n",
    "            print('l4')\n",
    "            for _ in range(times):\n",
    "                print('l5')\n",
    "                lis.append( fn(*args, **kwargs))\n",
    "                print('l7')\n",
    "            print('l8')\n",
    "            return lis\n",
    "        print('l9')\n",
    "        \n",
    "        return wrapper\n",
    "    return decorate\n",
    "\n",
    "\n",
    "@repeat(3)\n",
    "def say(message):\n",
    "    \n",
    "    print('l6')\n",
    "    ''' print the message \n",
    "    Arguments\n",
    "        message: the message to show\n",
    "    '''\n",
    "    return message\n",
    "\n",
    "\n",
    "c =say('Hello')\n",
    "print(\"***********8\")\n",
    "help(say)\n",
    "help(repeat)\n",
    "print(c)"
   ]
  },
  {
   "cell_type": "code",
   "execution_count": 36,
   "id": "e8787db3",
   "metadata": {},
   "outputs": [
    {
     "name": "stdout",
     "output_type": "stream",
     "text": [
      "*****\n",
      "17\n",
      "*****\n"
     ]
    },
    {
     "data": {
      "text/plain": [
       "17"
      ]
     },
     "execution_count": 36,
     "metadata": {},
     "output_type": "execute_result"
    }
   ],
   "source": [
    "# class decorator\n",
    "# A class instance can be a callable when it implements the __call__ method. Therefore, you can make the __call__ method as a decorator.\n",
    "# The following example rewrites the star decorator factory using a class instead:\n",
    "class Star:\n",
    "    def __init__(self, n):\n",
    "        self.n = n\n",
    "\n",
    "    def __call__(self, fn):\n",
    "        def wrapper(*args, **kwargs):\n",
    "            print(self.n*'*')\n",
    "            result = fn(*args, **kwargs)\n",
    "            print(result)\n",
    "            print(self.n*'*')\n",
    "            return result\n",
    "        return wrapper\n",
    "    \n",
    "@Star(5)\n",
    "def add(a, b):\n",
    "    return a + b\n",
    "add (5,12)"
   ]
  },
  {
   "cell_type": "code",
   "execution_count": 37,
   "id": "2cf4184b",
   "metadata": {},
   "outputs": [
    {
     "name": "stdout",
     "output_type": "stream",
     "text": [
      "*****\n",
      "30\n",
      "*****\n"
     ]
    },
    {
     "data": {
      "text/plain": [
       "30"
      ]
     },
     "execution_count": 37,
     "metadata": {},
     "output_type": "execute_result"
    }
   ],
   "source": [
    "from functools import wraps\n",
    "\n",
    "\n",
    "class Star:\n",
    "    def __init__(self, n):\n",
    "        self.n = n\n",
    "\n",
    "    def __call__(self, fn):\n",
    "        @wraps(fn)\n",
    "        def wrapper(*args, **kwargs):\n",
    "            print(self.n*'*')\n",
    "            result = fn(*args, **kwargs)\n",
    "            print(result)\n",
    "            print(self.n*'*')\n",
    "            return result\n",
    "        return wrapper\n",
    "\n",
    "\n",
    "@Star(5)\n",
    "def add(a, b):\n",
    "    return a + b\n",
    "\n",
    "\n",
    "add(10, 20)"
   ]
  },
  {
   "cell_type": "code",
   "execution_count": null,
   "id": "4de9ae2f",
   "metadata": {},
   "outputs": [],
   "source": []
  }
 ],
 "metadata": {
  "kernelspec": {
   "display_name": "Python 3 (ipykernel)",
   "language": "python",
   "name": "python3"
  },
  "language_info": {
   "codemirror_mode": {
    "name": "ipython",
    "version": 3
   },
   "file_extension": ".py",
   "mimetype": "text/x-python",
   "name": "python",
   "nbconvert_exporter": "python",
   "pygments_lexer": "ipython3",
   "version": "3.8.10"
  }
 },
 "nbformat": 4,
 "nbformat_minor": 5
}
