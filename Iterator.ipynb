{
 "cells": [
  {
   "cell_type": "code",
   "execution_count": 22,
   "id": "1eca9712",
   "metadata": {},
   "outputs": [],
   "source": [
    "class Colors:\n",
    "    def __init__(self):\n",
    "        self.rgb = ['red', 'green', 'blue', 'black']\n",
    "\n",
    "    def __len__(self):\n",
    "        return len(self.rgb)\n",
    "    \n",
    "    def __bool__(self):\n",
    "        if len(self.rgb) == 3:\n",
    "            return True\n",
    "        else:\n",
    "            return False"
   ]
  },
  {
   "cell_type": "code",
   "execution_count": 23,
   "id": "018c2fa4",
   "metadata": {},
   "outputs": [],
   "source": [
    "class ColorIterator:\n",
    "    def __init__(self, colors):\n",
    "        self.__colors = colors\n",
    "        self.__index = 0\n",
    "        self.md = [1,2,3]\n",
    "        self.Test = bool(self.__colors)\n",
    "\n",
    "    def __iter__(self):\n",
    "        return self\n",
    "\n",
    "    def __next__(self):\n",
    "        print(self.Test)\n",
    "        if self.__index >= len(self.__colors):\n",
    "            raise StopIteration\n",
    "\n",
    "        # return the next color\n",
    "        color = self.__colors.rgb[self.__index]\n",
    "        self.__index += 1\n",
    "        return color"
   ]
  },
  {
   "cell_type": "code",
   "execution_count": 26,
   "id": "5254560b",
   "metadata": {},
   "outputs": [
    {
     "name": "stdout",
     "output_type": "stream",
     "text": [
      "False\n",
      "red\n",
      "False\n",
      "green\n",
      "False\n",
      "blue\n",
      "False\n",
      "black\n",
      "False\n"
     ]
    }
   ],
   "source": [
    "colors = Colors()\n",
    "color_iterator = ColorIterator(colors)\n",
    "\n",
    "for color in color_iterator:\n",
    "    print(color)"
   ]
  },
  {
   "cell_type": "markdown",
   "id": "8d32ca48",
   "metadata": {},
   "source": [
    "# iterators in python\n",
    "An iterotar is an object that makes use of two methods mainly\n",
    "\n",
    "__iter__ returns object itself\n",
    "\n",
    "__next__ method that returns next items, if all the items are completed the it throws as stop iteration error\n",
    "\n",
    "Note: this two methods are also known as iterator protocols\n",
    "\n",
    "python allows us to use iterators in for loop, comprehensions, and other built-in functions such as filter map  reduce and zip"
   ]
  },
  {
   "cell_type": "code",
   "execution_count": 1,
   "id": "611969ee",
   "metadata": {},
   "outputs": [],
   "source": [
    "# Python example for iterator\n",
    "class Square:\n",
    "    def __init__(self, length):\n",
    "        self.length = length\n",
    "        self.current = 0\n",
    "\n",
    "    def __iter__(self):\n",
    "        return self\n",
    "\n",
    "    def __next__(self):\n",
    "        if self.current >= self.length:\n",
    "            raise StopIteration\n",
    "\n",
    "        self.current += 1\n",
    "        return self.current ** 2"
   ]
  },
  {
   "cell_type": "code",
   "execution_count": 9,
   "id": "835d4438",
   "metadata": {},
   "outputs": [
    {
     "name": "stdout",
     "output_type": "stream",
     "text": [
      "1\n",
      "4\n",
      "9\n",
      "16\n",
      "25\n"
     ]
    }
   ],
   "source": [
    "square = Square(5)\n",
    "for sq in square:\n",
    "    \n",
    "    print(sq)"
   ]
  },
  {
   "cell_type": "markdown",
   "id": "4e98c861",
   "metadata": {},
   "source": [
    "How it works.\n",
    "\n",
    "First, initialize the length and current attributes in the __init__ method.\n",
    "\n",
    "The length attribute specifies the number of square numbers that the class should return. And the current attribute keeps track of the current integer..\n",
    "\n",
    "Second, implement the __iter__ method that returns the self object.\n",
    "\n",
    "Third, implement the __next__ method that returns the next square number. If the number of square numbers have been returned is greater than the length, the __next__ method raises the StopIteration exception.\n",
    "Using the iterator object\n",
    "\n",
    "The following shows how to use the Square iterator in a for loop:"
   ]
  },
  {
   "cell_type": "code",
   "execution_count": 10,
   "id": "f9cb16be",
   "metadata": {},
   "outputs": [
    {
     "ename": "StopIteration",
     "evalue": "",
     "output_type": "error",
     "traceback": [
      "\u001b[0;31m---------------------------------------------------------------------------\u001b[0m",
      "\u001b[0;31mStopIteration\u001b[0m                             Traceback (most recent call last)",
      "\u001b[0;32m/tmp/ipykernel_70476/2469838880.py\u001b[0m in \u001b[0;36m<module>\u001b[0;34m\u001b[0m\n\u001b[0;32m----> 1\u001b[0;31m \u001b[0mnext\u001b[0m\u001b[0;34m(\u001b[0m\u001b[0msquare\u001b[0m\u001b[0;34m)\u001b[0m\u001b[0;34m\u001b[0m\u001b[0;34m\u001b[0m\u001b[0m\n\u001b[0m",
      "\u001b[0;32m/tmp/ipykernel_70476/891700444.py\u001b[0m in \u001b[0;36m__next__\u001b[0;34m(self)\u001b[0m\n\u001b[1;32m     10\u001b[0m     \u001b[0;32mdef\u001b[0m \u001b[0m__next__\u001b[0m\u001b[0;34m(\u001b[0m\u001b[0mself\u001b[0m\u001b[0;34m)\u001b[0m\u001b[0;34m:\u001b[0m\u001b[0;34m\u001b[0m\u001b[0;34m\u001b[0m\u001b[0m\n\u001b[1;32m     11\u001b[0m         \u001b[0;32mif\u001b[0m \u001b[0mself\u001b[0m\u001b[0;34m.\u001b[0m\u001b[0mcurrent\u001b[0m \u001b[0;34m>=\u001b[0m \u001b[0mself\u001b[0m\u001b[0;34m.\u001b[0m\u001b[0mlength\u001b[0m\u001b[0;34m:\u001b[0m\u001b[0;34m\u001b[0m\u001b[0;34m\u001b[0m\u001b[0m\n\u001b[0;32m---> 12\u001b[0;31m             \u001b[0;32mraise\u001b[0m \u001b[0mStopIteration\u001b[0m\u001b[0;34m\u001b[0m\u001b[0;34m\u001b[0m\u001b[0m\n\u001b[0m\u001b[1;32m     13\u001b[0m \u001b[0;34m\u001b[0m\u001b[0m\n\u001b[1;32m     14\u001b[0m         \u001b[0mself\u001b[0m\u001b[0;34m.\u001b[0m\u001b[0mcurrent\u001b[0m \u001b[0;34m+=\u001b[0m \u001b[0;36m1\u001b[0m\u001b[0;34m\u001b[0m\u001b[0;34m\u001b[0m\u001b[0m\n",
      "\u001b[0;31mStopIteration\u001b[0m: "
     ]
    }
   ],
   "source": [
    "next(square)"
   ]
  },
  {
   "cell_type": "markdown",
   "id": "24841517",
   "metadata": {},
   "source": [
    "Also, an iterator cannot be restarted because it only has the __next__ method that returns the next item from a collection."
   ]
  },
  {
   "cell_type": "markdown",
   "id": "bdc18c63",
   "metadata": {},
   "source": [
    "Summary\n",
    "\n",
    "    An iterator is an object that implements __iter__ and __next__ methods.\n",
    "    An iterator cannot be reusable once all items have been returned."
   ]
  },
  {
   "cell_type": "markdown",
   "id": "c288fc7e",
   "metadata": {},
   "source": [
    "# iterator vs iterable\n",
    "    Iterator:\n",
    "    \n",
    "    iterator is an object which makes use of iterator protocal, in other wards iterator is an object which makes use of \n",
    "\n",
    "    __iter__\n",
    "\n",
    "    __next__\n",
    "\n",
    "    Once you complete iterating a collection using an iterator, the iterator becomes exhausted.\n",
    "\n",
    "    It means that you cannot use the iterator object again.\n",
    "    \n",
    "    \n",
    "    iterable;\n",
    "    \n",
    "    iterable is an object which you can iterate over it.\n",
    "    \n",
    "    An object is iterable when it implements the __iter__ method. And its __iter__ method returns a new iterator."
   ]
  },
  {
   "cell_type": "code",
   "execution_count": 11,
   "id": "1497cef2",
   "metadata": {},
   "outputs": [
    {
     "name": "stdout",
     "output_type": "stream",
     "text": [
      "<class 'list_iterator'>\n"
     ]
    }
   ],
   "source": [
    "# Examine the built-in iterator and list\n",
    "numbers = [1, 2, 3]\n",
    "\n",
    "number_iterator = numbers.__iter__()\n",
    "print(type(number_iterator))"
   ]
  },
  {
   "cell_type": "code",
   "execution_count": 15,
   "id": "da1461f7",
   "metadata": {},
   "outputs": [
    {
     "ename": "StopIteration",
     "evalue": "",
     "output_type": "error",
     "traceback": [
      "\u001b[0;31m---------------------------------------------------------------------------\u001b[0m",
      "\u001b[0;31mStopIteration\u001b[0m                             Traceback (most recent call last)",
      "\u001b[0;32m/tmp/ipykernel_70476/1427042954.py\u001b[0m in \u001b[0;36m<module>\u001b[0;34m\u001b[0m\n\u001b[0;32m----> 1\u001b[0;31m \u001b[0mnext\u001b[0m\u001b[0;34m(\u001b[0m\u001b[0mnumber_iterator\u001b[0m\u001b[0;34m)\u001b[0m\u001b[0;34m\u001b[0m\u001b[0;34m\u001b[0m\u001b[0m\n\u001b[0m",
      "\u001b[0;31mStopIteration\u001b[0m: "
     ]
    }
   ],
   "source": [
    "next(number_iterator)"
   ]
  },
  {
   "cell_type": "code",
   "execution_count": 16,
   "id": "7b7bda3b",
   "metadata": {},
   "outputs": [
    {
     "data": {
      "text/plain": [
       "3"
      ]
     },
     "execution_count": 16,
     "metadata": {},
     "output_type": "execute_result"
    }
   ],
   "source": [
    "numbers = [1, 2, 3]\n",
    "number_iterator = iter(numbers)\n",
    "\n",
    "numbers = [1, 2, 3]\n",
    "\n",
    "number_iterator = iter(numbers)\n",
    "\n",
    "next(number_iterator)\n",
    "next(number_iterator)\n",
    "next(number_iterator)"
   ]
  },
  {
   "cell_type": "code",
   "execution_count": 17,
   "id": "67d3ff4b",
   "metadata": {},
   "outputs": [
    {
     "ename": "StopIteration",
     "evalue": "",
     "output_type": "error",
     "traceback": [
      "\u001b[0;31m---------------------------------------------------------------------------\u001b[0m",
      "\u001b[0;31mStopIteration\u001b[0m                             Traceback (most recent call last)",
      "\u001b[0;32m/tmp/ipykernel_70476/1427042954.py\u001b[0m in \u001b[0;36m<module>\u001b[0;34m\u001b[0m\n\u001b[0;32m----> 1\u001b[0;31m \u001b[0mnext\u001b[0m\u001b[0;34m(\u001b[0m\u001b[0mnumber_iterator\u001b[0m\u001b[0;34m)\u001b[0m\u001b[0;34m\u001b[0m\u001b[0;34m\u001b[0m\u001b[0m\n\u001b[0m",
      "\u001b[0;31mStopIteration\u001b[0m: "
     ]
    }
   ],
   "source": [
    "next(number_iterator)"
   ]
  },
  {
   "cell_type": "code",
   "execution_count": 19,
   "id": "0aa42942",
   "metadata": {},
   "outputs": [
    {
     "name": "stdout",
     "output_type": "stream",
     "text": [
      "red\n",
      "green\n",
      "blue\n"
     ]
    }
   ],
   "source": [
    "# python iterator and iterable\n",
    "class Colors:\n",
    "    def __init__(self):\n",
    "        self.rgb = ['red', 'green', 'blue']\n",
    "        self.__index = 0\n",
    "\n",
    "    def __iter__(self):\n",
    "        return self\n",
    "\n",
    "    def __next__(self):\n",
    "        if self.__index >= len(self.rgb):\n",
    "            raise StopIteration\n",
    "\n",
    "        # return the next color\n",
    "        color = self.rgb[self.__index]\n",
    "        self.__index += 1\n",
    "        return color\n",
    "    \n",
    "colors = Colors()\n",
    "\n",
    "for color in colors:\n",
    "    print(color)"
   ]
  },
  {
   "cell_type": "markdown",
   "id": "e99c6215",
   "metadata": {},
   "source": [
    "How it works.\n",
    "\n",
    "    The __init__ method accepts an iterable which is an instance of the Colors class.\n",
    "    The __iter__ method returns the iterator itself.\n",
    "    The __next__ method returns the next element from the Colors object."
   ]
  },
  {
   "cell_type": "markdown",
   "id": "f28ccc23",
   "metadata": {},
   "source": [
    "When you want to iterate the Colors object, you need to manually create a new ColorIterator object. And you also need to remember the iterator name ColorIterator.\n",
    "\n",
    "It would be great if you can automate this. To do it, you can make the Colors class iterable by implementing the __iter__ method:"
   ]
  },
  {
   "cell_type": "code",
   "execution_count": 24,
   "id": "ad41e582",
   "metadata": {},
   "outputs": [],
   "source": [
    "class Colors:\n",
    "    def __init__(self):\n",
    "        self.rgb = ['red', 'green', 'blue']\n",
    "\n",
    "    def __len__(self):\n",
    "        return len(self.rgb)\n",
    "\n",
    "    def __iter__(self):\n",
    "        return ColorIterator(self)\n"
   ]
  },
  {
   "cell_type": "code",
   "execution_count": 25,
   "id": "25081810",
   "metadata": {},
   "outputs": [
    {
     "name": "stdout",
     "output_type": "stream",
     "text": [
      "True\n",
      "red\n",
      "True\n",
      "green\n",
      "True\n",
      "blue\n",
      "True\n"
     ]
    }
   ],
   "source": [
    "colors = Colors()\n",
    "\n",
    "for color in colors:\n",
    "    print(color)\n"
   ]
  },
  {
   "cell_type": "markdown",
   "id": "ec8da4b0",
   "metadata": {},
   "source": [
    "Internally, the for loop calls the __iter__ method of the colors object to get the iterator and uses this iterator to iterate over the elements of the colors object.\n",
    "\n",
    "The following places the ColorIterator class inside the Colors class to encapsulate them into a single class:"
   ]
  },
  {
   "cell_type": "code",
   "execution_count": 26,
   "id": "d6cfb492",
   "metadata": {},
   "outputs": [],
   "source": [
    "class Colors:\n",
    "    def __init__(self):\n",
    "        self.rgb = ['red', 'green', 'blue']\n",
    "\n",
    "    def __len__(self):\n",
    "        return len(self.rgb)\n",
    "\n",
    "    def __iter__(self):\n",
    "        return self.ColorIterator(self)\n",
    "\n",
    "    class ColorIterator:\n",
    "        def __init__(self, colors):\n",
    "            self.__colors = colors\n",
    "            self.__index = 0\n",
    "\n",
    "        def __iter__(self):\n",
    "            return self\n",
    "\n",
    "        def __next__(self):\n",
    "            if self.__index >= len(self.__colors):\n",
    "                raise StopIteration\n",
    "\n",
    "            # return the next color\n",
    "            color = self.__colors.rgb[self.__index]\n",
    "            self.__index += 1\n",
    "            return color\n"
   ]
  },
  {
   "cell_type": "code",
   "execution_count": 28,
   "id": "85c18a82",
   "metadata": {},
   "outputs": [
    {
     "name": "stdout",
     "output_type": "stream",
     "text": [
      "red\n",
      "green\n",
      "blue\n"
     ]
    }
   ],
   "source": [
    "color = Colors()\n",
    "for c in color:\n",
    "    print(c)"
   ]
  },
  {
   "cell_type": "markdown",
   "id": "98149ce8",
   "metadata": {},
   "source": [
    "# iter function in python\n",
    "The iter() function returns an iterator of a given object:\n",
    "iter(object)"
   ]
  },
  {
   "cell_type": "markdown",
   "id": "6ae353d6",
   "metadata": {},
   "source": [
    "The iter() function requires an argument that can be an iterable or a sequence. In general, the object argument can be any object that supports either iteration or sequence protocol.\n",
    "\n",
    "When you call the iter() function on an object, the function first looks for an __iter__() method of that object.\n",
    "\n",
    "If the __iter__() method exists, the iter() function calls it to get an iterator. Otherwise, the iter() function will look for a __getitem__() method.\n",
    "\n",
    "If the __getitem__() is available, the iter() function creates an iterator object and returns that object. Otherwise, it raises a TypeError exception.\n",
    "\n",
    "The following flowchart illustrates how the iter() function works:"
   ]
  },
  {
   "cell_type": "code",
   "execution_count": 30,
   "id": "a33ea719",
   "metadata": {},
   "outputs": [
    {
     "ename": "TypeError",
     "evalue": "'Counter' object is not iterable",
     "output_type": "error",
     "traceback": [
      "\u001b[0;31m---------------------------------------------------------------------------\u001b[0m",
      "\u001b[0;31mTypeError\u001b[0m                                 Traceback (most recent call last)",
      "\u001b[0;32m/tmp/ipykernel_70476/1451777830.py\u001b[0m in \u001b[0;36m<module>\u001b[0;34m\u001b[0m\n\u001b[1;32m      5\u001b[0m \u001b[0;34m\u001b[0m\u001b[0m\n\u001b[1;32m      6\u001b[0m \u001b[0mcounter\u001b[0m \u001b[0;34m=\u001b[0m \u001b[0mCounter\u001b[0m\u001b[0;34m(\u001b[0m\u001b[0;34m)\u001b[0m\u001b[0;34m\u001b[0m\u001b[0;34m\u001b[0m\u001b[0m\n\u001b[0;32m----> 7\u001b[0;31m \u001b[0miterator\u001b[0m \u001b[0;34m=\u001b[0m \u001b[0miter\u001b[0m\u001b[0;34m(\u001b[0m\u001b[0mcounter\u001b[0m\u001b[0;34m)\u001b[0m\u001b[0;34m\u001b[0m\u001b[0;34m\u001b[0m\u001b[0m\n\u001b[0m",
      "\u001b[0;31mTypeError\u001b[0m: 'Counter' object is not iterable"
     ]
    }
   ],
   "source": [
    "class Counter:\n",
    "    def __init__(self):\n",
    "        self.__current = 0\n",
    "\n",
    "\n",
    "counter = Counter()\n",
    "iterator = iter(counter)"
   ]
  },
  {
   "cell_type": "code",
   "execution_count": 31,
   "id": "8e9e530e",
   "metadata": {},
   "outputs": [],
   "source": [
    "class Counter:\n",
    "    def __init__(self):\n",
    "        self.current = 0\n",
    "\n",
    "    def __getitem__(self, index):\n",
    "        if isinstance(index, int):\n",
    "            self.current += 1\n",
    "            return self.current"
   ]
  },
  {
   "cell_type": "markdown",
   "id": "d130a0c0",
   "metadata": {},
   "source": [
    "Because the Counter implements the __getitem__() method that returns an element based on an index, it’s a sequence.\n",
    "\n",
    "Now, you can use the iter() function to get the iterator of the counter:"
   ]
  },
  {
   "cell_type": "code",
   "execution_count": 32,
   "id": "54dacaa3",
   "metadata": {},
   "outputs": [
    {
     "name": "stdout",
     "output_type": "stream",
     "text": [
      "<class 'iterator'>\n"
     ]
    }
   ],
   "source": [
    "counter = Counter()\n",
    "\n",
    "iterator = iter(counter)\n",
    "print(type(iterator))"
   ]
  },
  {
   "cell_type": "code",
   "execution_count": 33,
   "id": "7c13dc3f",
   "metadata": {},
   "outputs": [
    {
     "name": "stdout",
     "output_type": "stream",
     "text": [
      "1\n",
      "2\n",
      "3\n"
     ]
    }
   ],
   "source": [
    "for _ in range(1, 4):\n",
    "    print(next(iterator))"
   ]
  },
  {
   "cell_type": "code",
   "execution_count": 34,
   "id": "e3ea3661",
   "metadata": {},
   "outputs": [
    {
     "name": "stdout",
     "output_type": "stream",
     "text": [
      "Help on built-in function isinstance in module builtins:\n",
      "\n",
      "isinstance(obj, class_or_tuple, /)\n",
      "    Return whether an object is an instance of a class or of a subclass thereof.\n",
      "    \n",
      "    A tuple, as in ``isinstance(x, (A, B, ...))``, may be given as the target to\n",
      "    check against. This is equivalent to ``isinstance(x, A) or isinstance(x, B)\n",
      "    or ...`` etc.\n",
      "\n"
     ]
    }
   ],
   "source": [
    "help(isinstance)"
   ]
  },
  {
   "cell_type": "code",
   "execution_count": 39,
   "id": "509dc6b2",
   "metadata": {},
   "outputs": [
    {
     "name": "stdout",
     "output_type": "stream",
     "text": [
      "True\n"
     ]
    }
   ],
   "source": [
    "a = isinstance(1, int)\n",
    "print(a)"
   ]
  },
  {
   "cell_type": "code",
   "execution_count": 40,
   "id": "d23aaf5f",
   "metadata": {},
   "outputs": [],
   "source": [
    "class Counter:\n",
    "    def __init__(self):\n",
    "        self.current = 0\n",
    "\n",
    "    def __getitem__(self, index):\n",
    "        if isinstance(index, int):\n",
    "            self.current += 1\n",
    "            return self.current\n",
    "\n",
    "    def __iter__(self):\n",
    "        return self.CounterIterator(self)\n",
    "\n",
    "    class CounterIterator:\n",
    "        def __init__(self, counter):\n",
    "            self.__counter = counter\n",
    "\n",
    "        def __iter__(self):\n",
    "            return self\n",
    "\n",
    "        def __next__(self):\n",
    "            self.__counter.current += 1\n",
    "            return self.__counter.current"
   ]
  },
  {
   "cell_type": "markdown",
   "id": "43fc513b",
   "metadata": {},
   "source": [
    "How it works.\n",
    "\n",
    "    The Counter class implements the __iter__() method that returns an iterator. The return iterator is a new instance of the CounterIterator.\n",
    "    The CounterIterator class supports the iterator protocol by implementing the __iter__() and __next__() methods.\n",
    "\n",
    "When both __iter__() and __getitem__() methods exist, the iter() function always uses the __iter__() method:"
   ]
  },
  {
   "cell_type": "code",
   "execution_count": 41,
   "id": "b666fe00",
   "metadata": {},
   "outputs": [
    {
     "name": "stdout",
     "output_type": "stream",
     "text": [
      "<class '__main__.Counter.CounterIterator'>\n"
     ]
    }
   ],
   "source": [
    "counter = Counter()\n",
    "\n",
    "iterator = iter(counter)\n",
    "print(type(iterator))"
   ]
  },
  {
   "cell_type": "code",
   "execution_count": null,
   "id": "2242bb54",
   "metadata": {},
   "outputs": [],
   "source": []
  }
 ],
 "metadata": {
  "kernelspec": {
   "display_name": "Python 3 (ipykernel)",
   "language": "python",
   "name": "python3"
  },
  "language_info": {
   "codemirror_mode": {
    "name": "ipython",
    "version": 3
   },
   "file_extension": ".py",
   "mimetype": "text/x-python",
   "name": "python",
   "nbconvert_exporter": "python",
   "pygments_lexer": "ipython3",
   "version": "3.8.10"
  }
 },
 "nbformat": 4,
 "nbformat_minor": 5
}
