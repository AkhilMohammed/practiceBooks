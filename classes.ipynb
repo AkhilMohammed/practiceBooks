{
 "cells": [
  {
   "cell_type": "markdown",
   "id": "43dbdd27",
   "metadata": {},
   "source": [
    "In python every thing is an object , if you are specifying an integer it will be an instnace of the class int .\n",
    "class will be the blue print of the object, and the object will be the instance of the class , behaviour is specified by functions which is also known as methods and , state is specified with the attributes or variables."
   ]
  },
  {
   "cell_type": "code",
   "execution_count": 1,
   "id": "96eb31a5",
   "metadata": {},
   "outputs": [
    {
     "name": "stdout",
     "output_type": "stream",
     "text": [
      "True\n",
      "0x7fee740b4d60\n",
      "True\n"
     ]
    }
   ],
   "source": [
    "# defining the class\n",
    "class Person:\n",
    "    pass # defined a class and as we didnt constructed it fully we defined pass for the class person\n",
    "\n",
    "person = Person()  # creating an instance or object person with the class Person , when you check whether it is present or not use bool or id\n",
    "\n",
    "print(bool(person))\n",
    "print(hex(id(person)))\n",
    "print(isinstance(person, Person)) # The person object is instance of Person class isinstance returns True if person is an instance of Person class"
   ]
  },
  {
   "cell_type": "code",
   "execution_count": 2,
   "id": "2b7e197a",
   "metadata": {},
   "outputs": [
    {
     "name": "stdout",
     "output_type": "stream",
     "text": [
      "Person\n"
     ]
    }
   ],
   "source": [
    "# A class is also an object in python\n",
    "# every thing in python is object even class is object\n",
    "# when you define a class in python it creates an object with the name person, the Person object has variables\n",
    "print(Person.__name__)"
   ]
  },
  {
   "cell_type": "code",
   "execution_count": 3,
   "id": "9dd75289",
   "metadata": {},
   "outputs": [
    {
     "name": "stdout",
     "output_type": "stream",
     "text": [
      "<class 'type'>\n"
     ]
    }
   ],
   "source": [
    "# person object has a type 'type'\n",
    "print(type(Person))"
   ]
  },
  {
   "cell_type": "code",
   "execution_count": 4,
   "id": "3e00b178",
   "metadata": {},
   "outputs": [
    {
     "name": "stdout",
     "output_type": "stream",
     "text": [
      "None\n"
     ]
    }
   ],
   "source": [
    "# Doc strings\n",
    "print(Person.__doc__)"
   ]
  },
  {
   "cell_type": "code",
   "execution_count": 5,
   "id": "1cf60d96",
   "metadata": {},
   "outputs": [
    {
     "name": "stdout",
     "output_type": "stream",
     "text": [
      "Doc strings that are specified with in qoutes\n",
      "Doc strings that are specified with in qoutes\n",
      "Help on class Person in module __main__:\n",
      "\n",
      "class Person(builtins.object)\n",
      " |  Doc strings that are specified with in qoutes\n",
      " |  \n",
      " |  Data descriptors defined here:\n",
      " |  \n",
      " |  __dict__\n",
      " |      dictionary for instance variables (if defined)\n",
      " |  \n",
      " |  __weakref__\n",
      " |      list of weak references to the object (if defined)\n",
      "\n",
      "{}\n"
     ]
    },
    {
     "data": {
      "text/plain": [
       "['__class__',\n",
       " '__delattr__',\n",
       " '__dict__',\n",
       " '__dir__',\n",
       " '__doc__',\n",
       " '__eq__',\n",
       " '__format__',\n",
       " '__ge__',\n",
       " '__getattribute__',\n",
       " '__gt__',\n",
       " '__hash__',\n",
       " '__init__',\n",
       " '__init_subclass__',\n",
       " '__le__',\n",
       " '__lt__',\n",
       " '__module__',\n",
       " '__ne__',\n",
       " '__new__',\n",
       " '__reduce__',\n",
       " '__reduce_ex__',\n",
       " '__repr__',\n",
       " '__setattr__',\n",
       " '__sizeof__',\n",
       " '__str__',\n",
       " '__subclasshook__',\n",
       " '__weakref__']"
      ]
     },
     "execution_count": 5,
     "metadata": {},
     "output_type": "execute_result"
    }
   ],
   "source": [
    "# How it works when doc strings are specified \n",
    "class Person: # Actually doc strings are not mandatory they are optional \n",
    "    \"Doc strings that are specified with in qoutes\"\n",
    "    # Doc string that are specified with hash tags\n",
    "    pass\n",
    "\n",
    "person = Person()\n",
    "\n",
    "print(person.__doc__) # calling the doc string with the magic method __doc__ with the object reference\n",
    "\n",
    "print(Person.__doc__) # calling the doc string with Class\n",
    "\n",
    "help(Person) # help gives the informartion of the variable and methods inside the Person class\n",
    "\n",
    "print(person.__dict__) # it gives the list of available methods\n",
    "\n",
    "dir(Person) # give the available magic methods and function available for a class"
   ]
  },
  {
   "cell_type": "markdown",
   "id": "bc6653e6",
   "metadata": {},
   "source": [
    "# variables in python\n",
    "Python classess mainly has three type of variables.\n",
    "1. Instance variables (Object level variables).\n",
    "2. local variables (Method level variables).\n",
    "3. Static Variables (class level variables).\n",
    "\n",
    "with in python class we can represent function , which are also called as methods they are againa classified into 3 types\n",
    "1. Instance Method.\n",
    "2. Class Method.\n",
    "3. Static Method."
   ]
  },
  {
   "cell_type": "code",
   "execution_count": 6,
   "id": "1daa0a97",
   "metadata": {},
   "outputs": [
    {
     "name": "stdout",
     "output_type": "stream",
     "text": [
      "{'name': 'Akhil', 'age': 25, 'address': 'pattabhipuram', 'number': '9985391196'}\n",
      "Help on class Person in module __main__:\n",
      "\n",
      "class Person(builtins.object)\n",
      " |  Person(name, age)\n",
      " |  \n",
      " |  defing a person with a set of instance variables as well as instance methods\n",
      " |  \n",
      " |  Methods defined here:\n",
      " |  \n",
      " |  __init__(self, name, age)\n",
      " |      This is a constructor where the basic details are passed and it is called when an instance is created\n",
      " |  \n",
      " |  details(self, address, number)\n",
      " |      This is an instance method we can call this out side the class with the reference point\n",
      " |  \n",
      " |  ----------------------------------------------------------------------\n",
      " |  Data descriptors defined here:\n",
      " |  \n",
      " |  __dict__\n",
      " |      dictionary for instance variables (if defined)\n",
      " |  \n",
      " |  __weakref__\n",
      " |      list of weak references to the object (if defined)\n",
      "\n"
     ]
    }
   ],
   "source": [
    "# example for a sample class with attributes and functions\n",
    "class Person:\n",
    "    \"defing a person with a set of instance variables as well as instance methods\"\n",
    "    def __init__(self, name, age):\n",
    "        \" This is a constructor where the basic details are passed and it is called when an instance is created\"\n",
    "        self.name = name\n",
    "        self.age = age\n",
    "    def details(self, address, number):\n",
    "        \"This is an instance method we can call this out side the class with the reference point\"\n",
    "        self.address = address\n",
    "        self.number = number\n",
    "        return {\"name\":self.name,\"address\":self.address,\"age\":self.age,\"number\":self.number}\n",
    "    \n",
    "# When instance variables are passed with the object those attribute values will be with those instance or object.\n",
    "# Same with the instance methods also those values of methods will be with that particular object\n",
    "\n",
    "# If a new istanace created with the Class Person it will be having its own variable values , and that object methods.\n",
    "person = Person(\"Akhil\", 25)\n",
    "person.details(\"pattabhipuram\", \"9985391196\")\n",
    "\n",
    "print(person.__dict__) # give the dictionary of variable or attributes present in the class\n",
    "dir(Person) # gives both the built in functions as well as user defined methods\n",
    "help(Person)"
   ]
  },
  {
   "cell_type": "markdown",
   "id": "c8163534",
   "metadata": {},
   "source": [
    "# Self Variable\n",
    "self is the default variable which is always pointing towards current instance ,or object\n",
    "by using self we can declare instance variable as well as instance methods.\n",
    "\n",
    "NOTE\n",
    "1. self should be the first values with in the constructor\n",
    "    def __init__(self):\n",
    "   \n",
    "2. self should be the first param in the instance method , so that it will be pointing the current instance.\n",
    "    def Details(self):"
   ]
  },
  {
   "cell_type": "markdown",
   "id": "ddaaf51c",
   "metadata": {},
   "source": [
    "# Constructor concept \n",
    "1. constructor is a special method in pYthon, it is also known as magic method\n",
    "2. The name of constructor should be __init__(self):\n",
    "3. Constructor will be automatically created when an instance is created from a class.\n",
    "4. Main purpose of the constructor is to intialize and also declare the instance variables.\n",
    "5. Per Object condtructor will be executed only Once.\n",
    "6. COnstructor can atleast one argument that is self __init__(self)\n",
    "7. Constructor is Optional if we are not providing the constructor it will be automatically created by the python."
   ]
  },
  {
   "cell_type": "markdown",
   "id": "dce3e577",
   "metadata": {},
   "source": [
    "# Difference between methods and constructors\n",
    "Counstructor:\n",
    "1. constructor is created or called when an new instance is created.\n",
    "2. Constructor contains atleast one variable.\n",
    "3. Constructor is used to initialze variables.\n",
    "4. Name of the constructor will always be __init__\n",
    "5. Per object there will be only one constructor.\n",
    "\n",
    "\n",
    "Method:\n",
    "\n",
    "\n",
    "1. Method will be executed when we call the method.\n",
    "2. Method according to the type may or may not contain self vvariable.\n",
    "3. Methods are used for business logics\n",
    "4. NAME of the method can be any name.\n",
    "5. Per object there can be any number of methods.\n"
   ]
  },
  {
   "cell_type": "markdown",
   "id": "983c4fdc",
   "metadata": {},
   "source": [
    "# Deep in sights of constructor\n",
    "1. Constructors doesnt create any objects , they are just called when an object is created.\n",
    "2. Bydefault __init__ has self variable if you are not sending the self variable it throws an error.\n",
    "3. Whenever a constructor called python does two things:\n",
    "      1. It will create the Person instance from the person class with an __dict__ as ({})\n",
    "      2. Call the __init__ to initialize the attributes of an inctance created newly.\n",
    "      \n",
    "4. __init__ is not actually an constructor. it just initializes the instance."
   ]
  },
  {
   "cell_type": "markdown",
   "id": "c9e33043",
   "metadata": {},
   "source": [
    "#  Instance Variables\n",
    "1. If the value of variable varies from object to object then such a variable is known as instance variable.\n",
    "2. For every object a seperate set of instance variables are created.\n",
    "\n",
    "\n",
    "# Where can we declare Instance variables.\n",
    "1. Inside a constructor by using self varibale.\n",
    "2. Inside a method by using self variable.\n",
    "3. Outside the class after creating an instance by using refernce variable."
   ]
  },
  {
   "cell_type": "code",
   "execution_count": 7,
   "id": "7d55d6ac",
   "metadata": {},
   "outputs": [
    {
     "name": "stdout",
     "output_type": "stream",
     "text": [
      "{'name': 'Akhil', 'age': 25}\n"
     ]
    }
   ],
   "source": [
    "# Inside a constructor by declaring self variable\n",
    "# whenever instance variable is added in the constructor they will be called when the object is created \n",
    "class Person:\n",
    "    def __init__(self, name, age):\n",
    "        self.name = name\n",
    "        self.age = age\n",
    "        \n",
    "person = Person(\"Akhil\",25)\n",
    "print(person.__dict__)"
   ]
  },
  {
   "cell_type": "code",
   "execution_count": 8,
   "id": "230505cf",
   "metadata": {},
   "outputs": [
    {
     "name": "stdout",
     "output_type": "stream",
     "text": [
      "{'name': 'Fiza', 'age': '18'}\n",
      "{'name': 'Fiza', 'age': '18', 'gender': 'Female', 'education': 'Inter'}\n"
     ]
    }
   ],
   "source": [
    "# Inside a Method by declaring self variable \n",
    "# whenever we call instance variable in the method those instance variables are called when the method with that instance variable is called\n",
    "\n",
    "class Person:\n",
    "    def __init__(self, name, age):\n",
    "        self.name = name\n",
    "        self.age = age\n",
    "        \n",
    "    def Abilities(self, gender, education):\n",
    "        self.gender = gender  # clear example of calling an instance variable\n",
    "        self.education = education\n",
    "        \n",
    "person = Person(\"Fiza\", \"18\")\n",
    "print(person.__dict__)  # when a function having instance variable is not called then it wont access those instance variables.\n",
    "person.Abilities(\"Female\", \"Inter\")\n",
    "print(person.__dict__ ) # now after calling the instance variables it shows those variables too"
   ]
  },
  {
   "cell_type": "code",
   "execution_count": 9,
   "id": "b3a0b597",
   "metadata": {},
   "outputs": [
    {
     "data": {
      "text/plain": [
       "{'name': 'Fiza',\n",
       " 'age': '18',\n",
       " 'gender': 'Female',\n",
       " 'education': 'inter',\n",
       " 'quality': 'good'}"
      ]
     },
     "execution_count": 9,
     "metadata": {},
     "output_type": "execute_result"
    }
   ],
   "source": [
    "# Outside the class after declaring the insatnce with reference variable.\n",
    "class Person:\n",
    "    def __init__(self, name, age):\n",
    "        self.name = name\n",
    "        self.age = age\n",
    "        \n",
    "    def Abilities(self, gender, education):\n",
    "        self.gender = gender  # clear example of calling an instance variable\n",
    "        self.education = education\n",
    "        \n",
    "person = Person(\"Fiza\",\"18\")\n",
    "person.Abilities(\"Female\", \"inter\")\n",
    "person.quality = \"good\"  # calling instance variable outside the class\n",
    "person.__dict__"
   ]
  },
  {
   "cell_type": "code",
   "execution_count": 10,
   "id": "6d8f150d",
   "metadata": {},
   "outputs": [
    {
     "name": "stdout",
     "output_type": "stream",
     "text": [
      "{'name': 'Fiza', 'age': '18'}\n"
     ]
    },
    {
     "data": {
      "text/plain": [
       "'Fiza'"
      ]
     },
     "execution_count": 10,
     "metadata": {},
     "output_type": "execute_result"
    }
   ],
   "source": [
    "# Accessing the instance variables\n",
    "class Person:\n",
    "    def __init__(self, name, age):\n",
    "        self.name = name\n",
    "        self.age = age\n",
    "        \n",
    "    def Abilities(self, gender, education):\n",
    "        self.gender = gender  \n",
    "        self.education = education\n",
    "        \n",
    "person = Person(\"Fiza\", \"18\")\n",
    "print(person.__dict__)\n",
    "person.name #"
   ]
  },
  {
   "cell_type": "code",
   "execution_count": 11,
   "id": "fdca1454",
   "metadata": {},
   "outputs": [
    {
     "name": "stdout",
     "output_type": "stream",
     "text": [
      "{'name': 'Fiza', 'gender': 'Female', 'education': 'Inter'}\n",
      "{'gender': 'Female', 'education': 'Inter'}\n"
     ]
    }
   ],
   "source": [
    "# deleting the instance variable\n",
    "# 1. with in a class we can delete it with the help of self variable.\n",
    "# 2. Out side the class with the help a refernce variables.\n",
    "class Person:\n",
    "    def __init__(self, name, age):\n",
    "        self.name = name\n",
    "        self.age = age\n",
    "        \n",
    "    def Abilities(self, gender, education):\n",
    "        self.gender = gender \n",
    "        self.education = education\n",
    "        del self.age # deleting an instance variable with in the class\n",
    "        \n",
    "person = Person(\"Fiza\", \"19\")\n",
    "person.Abilities(\"Female\", \"Inter\")\n",
    "print(person.__dict__)\n",
    "del person.name # deleting instance variables out side the class using object reference\n",
    "print(person.__dict__)"
   ]
  },
  {
   "cell_type": "code",
   "execution_count": 12,
   "id": "ceb317a0",
   "metadata": {},
   "outputs": [
    {
     "name": "stdout",
     "output_type": "stream",
     "text": [
      "<class 'type'>\n",
      "<class 'dict'>\n",
      "<class '__main__.Person'>\n"
     ]
    }
   ],
   "source": [
    "# General things to remember\n",
    "print(type(Person))\n",
    "print(type(person.__dict__))\n",
    "print(type(person))"
   ]
  },
  {
   "cell_type": "markdown",
   "id": "56d4ec2f",
   "metadata": {},
   "source": [
    "# Static Variables or class Variables\n",
    "1. When the variable of the class is shared by all the instances of the class then such variables are called Static variables.\n",
    "2. Static variables are defined outside of the methods,\n",
    "3. Static variable are only one copy that are passed to all the objects  created from the class\n",
    "4. Whenever an instance is created with a class having the instance variables the variables are automatically added to the class.\n",
    "5. Static variables are called with the help of class name and also the object name it is recomonded to call with class name.\n"
   ]
  },
  {
   "cell_type": "code",
   "execution_count": 13,
   "id": "e903d8bf",
   "metadata": {},
   "outputs": [
    {
     "name": "stdout",
     "output_type": "stream",
     "text": [
      "{'__module__': '__main__', 'state': 'Andhra pradesh', 'country': 'India', '__dict__': <attribute '__dict__' of 'Person' objects>, '__weakref__': <attribute '__weakref__' of 'Person' objects>, '__doc__': None}\n",
      "{}\n"
     ]
    }
   ],
   "source": [
    "class Person:\n",
    "    state = \"Andhra pradesh\"\n",
    "    country = \"India\"\n",
    "\n",
    "    \n",
    "person = Person()\n",
    "print(Person.__dict__) # as you can see here the variables are passed in the class \n",
    "print(person.__dict__) # this returns  the empty dictinary because the class variables are passed from the class , so they wont be in the instance."
   ]
  },
  {
   "cell_type": "markdown",
   "id": "b58d3b7c",
   "metadata": {},
   "source": [
    "# Static Variable vs instance variable \n",
    "1. Incase od static variables only one copy of static variables is created to all the instance of the classs and it is created only once and shared\n",
    "2. For instance variables when ever a new instance is created new set of variables are created"
   ]
  },
  {
   "cell_type": "code",
   "execution_count": 14,
   "id": "772c34c0",
   "metadata": {},
   "outputs": [
    {
     "name": "stdout",
     "output_type": "stream",
     "text": [
      "{}\n",
      "<class 'dict'>\n",
      "<class 'mappingproxy'>\n",
      "<class 'type'>\n",
      "<class '__main__.Person'>\n"
     ]
    }
   ],
   "source": [
    "print(person.__dict__)\n",
    "print(type(person.__dict__))\n",
    "print(type(Person.__dict__))\n",
    "print(type(Person))\n",
    "print(type(person))"
   ]
  },
  {
   "cell_type": "code",
   "execution_count": 15,
   "id": "475ab23e",
   "metadata": {},
   "outputs": [
    {
     "name": "stdout",
     "output_type": "stream",
     "text": [
      "India\n",
      "Andhra pradesh\n"
     ]
    }
   ],
   "source": [
    "# since the dictionary is mutable python allows to change the dictanary\n",
    "# we can change the class variables with the help of instance variables.\n",
    "print(person.country) # in this case python will check with the dictionary of the instance if there is no country then it will check with class variables.\n",
    "print(person.state) # if the variables are found in the instance dict then it wont be checking for class variables"
   ]
  },
  {
   "cell_type": "code",
   "execution_count": 16,
   "id": "3926673d",
   "metadata": {},
   "outputs": [
    {
     "name": "stdout",
     "output_type": "stream",
     "text": [
      "{'country': 'afganisthan'}\n",
      "{'__module__': '__main__', 'state': 'Andhra pradesh', 'country': 'India', '__dict__': <attribute '__dict__' of 'Person' objects>, '__weakref__': <attribute '__weakref__' of 'Person' objects>, '__doc__': None}\n",
      "afganisthan\n",
      "India\n"
     ]
    }
   ],
   "source": [
    "person.country = \"afganisthan\"\n",
    "print(person.__dict__) # when we change the class variable it is added to the instance dict\n",
    "print(Person.__dict__)\n",
    "print(person.country)\n",
    "print(Person.country)"
   ]
  },
  {
   "cell_type": "code",
   "execution_count": 17,
   "id": "651f4b44",
   "metadata": {},
   "outputs": [
    {
     "data": {
      "text/plain": [
       "'India'"
      ]
     },
     "execution_count": 17,
     "metadata": {},
     "output_type": "execute_result"
    }
   ],
   "source": [
    "person1 = Person()\n",
    "person1.country"
   ]
  },
  {
   "cell_type": "markdown",
   "id": "12f3d4d4",
   "metadata": {},
   "source": [
    "# Various places to declare static variables.\n",
    "1. Inside a class , but out side all methods as well as the __init__\n",
    "1. Inside the constructor with the class name.\n",
    "3. Inside the instance method with the class name\n",
    "4. Inside the class method with class name or cls variable.\n",
    "5. Inside the static method with the class name"
   ]
  },
  {
   "cell_type": "code",
   "execution_count": 18,
   "id": "ef87c75f",
   "metadata": {},
   "outputs": [
    {
     "name": "stdout",
     "output_type": "stream",
     "text": [
      "{'name': 'Akhil'}\n",
      "{'__module__': '__main__', 'country': 'India', '__init__': <function Person.__init__ at 0x7fee74076f70>, 'instanceMethod': <function Person.instanceMethod at 0x7fee74076040>, 'classMethod': <classmethod object at 0x7fee7401ffa0>, 'staticMethod': <staticmethod object at 0x7fee7401ffd0>, '__dict__': <attribute '__dict__' of 'Person' objects>, '__weakref__': <attribute '__weakref__' of 'Person' objects>, '__doc__': None, 'region': 'south'}\n",
      "{}\n",
      "{}\n",
      "Pattabhipuram\n",
      "Pattabhipuram\n",
      "Pattabhipuram from second object when the first object has used the class method\n",
      "{'__module__': '__main__', 'country': 'India', '__init__': <function Person.__init__ at 0x7fee74076f70>, 'instanceMethod': <function Person.instanceMethod at 0x7fee74076040>, 'classMethod': <classmethod object at 0x7fee7401ffa0>, 'staticMethod': <staticmethod object at 0x7fee7401ffd0>, '__dict__': <attribute '__dict__' of 'Person' objects>, '__weakref__': <attribute '__weakref__' of 'Person' objects>, '__doc__': None, 'region': 'south', 'post': 'Pattabhipuram', 'mandal': 'Guntur'}\n",
      "the static method is not used by any od the instances\n",
      "Guntur\n",
      "Guntur After declaring the static method\n",
      "{'__module__': '__main__', 'country': 'India', '__init__': <function Person.__init__ at 0x7fee74076f70>, 'instanceMethod': <function Person.instanceMethod at 0x7fee74076040>, 'classMethod': <classmethod object at 0x7fee7401ffa0>, 'staticMethod': <staticmethod object at 0x7fee7401ffd0>, '__dict__': <attribute '__dict__' of 'Person' objects>, '__weakref__': <attribute '__weakref__' of 'Person' objects>, '__doc__': None, 'region': 'south', 'post': 'Pattabhipuram', 'mandal': 'Guntur', 'city': 'Guntur'} After declaring the staticMethod\n"
     ]
    }
   ],
   "source": [
    "class Person:\n",
    "    country = \"India\"\n",
    "    \n",
    "    def __init__(self, name):\n",
    "        self.name = name\n",
    "        Person.region = \"south\"\n",
    "        \n",
    "    def instanceMethod(self, age):\n",
    "        self.age = age\n",
    "        Person.pincode = \"5220006\"\n",
    "        \n",
    "    @classmethod\n",
    "    def classMethod(cls):\n",
    "        cls.post = \"Pattabhipuram\"\n",
    "        Person.mandal = \"Guntur\"\n",
    "        \n",
    "    @staticmethod\n",
    "    def staticMethod():\n",
    "        Person.city = \"Guntur\"\n",
    "        \n",
    "person = Person(\"Akhil\")\n",
    "print(person.__dict__) \n",
    "print(Person.__dict__)\n",
    "print(Person.classMethod.__dict__)\n",
    "print(person.classMethod.__dict__)\n",
    "person.classMethod()\n",
    "print(person.post) # when the class method is called for an object then only the variales derived in the method will be availbe for both the instance and class\n",
    "print(Person.post)\n",
    "\n",
    "person1 = Person(\"Fiza\")\n",
    "print(Person.post, \"from second object when the first object has used the class method\")\n",
    "print(Person.__dict__) # when any one of the instance uses the classMethod then the class variables in this method will be availble in class __dict__\n",
    "try:\n",
    "    print(person1.city)\n",
    "except:\n",
    "    try:\n",
    "        print(Person.city)\n",
    "    except:\n",
    "        print(\"the static method is not used by any od the instances\")\n",
    "        \n",
    "person1.staticMethod()\n",
    "print(person1.city) # as we called the staticMethod with atleast one variable so it is available to the class as well as another instances.\n",
    "print(Person.city, \"After declaring the static method\")\n",
    "print(Person.__dict__,\"After declaring the staticMethod\") # we will be getting the class variables declared in the static method"
   ]
  },
  {
   "cell_type": "markdown",
   "id": "957191b1",
   "metadata": {},
   "source": [
    "# How to access the static variables\n",
    "1. Inside the __init__ with the help of class name\n",
    "2. Inside the instance method with the help of self variable or class name\n",
    "3. Inside the class method with the help of cls or class name\n",
    "4. Inside the static method with the help of class name.\n",
    "5. Outside the class with the help of class name"
   ]
  },
  {
   "cell_type": "code",
   "execution_count": 19,
   "id": "4b20c6e5",
   "metadata": {},
   "outputs": [
    {
     "name": "stdout",
     "output_type": "stream",
     "text": [
      "India\n",
      "India calling with self variable inside instance method\n",
      "India calling with Class name\n",
      "India with cls variable\n",
      "India with class name\n",
      "India\n"
     ]
    }
   ],
   "source": [
    "class Person:\n",
    "    \n",
    "    country = \"India\"\n",
    "    \n",
    "    def __init__(self):\n",
    "        print(Person.country)\n",
    "        \n",
    "    def Instance(self):\n",
    "        print(self.country, \"calling with self variable inside instance method\")\n",
    "        print(Person.country, \"calling with Class name\")\n",
    "        \n",
    "    @classmethod\n",
    "    def ClassMethod(cls):\n",
    "        print(cls.country, \"with cls variable\")\n",
    "        print(Person.country, \"with class name\")\n",
    "        \n",
    "    @staticmethod\n",
    "    def StaticMethod():\n",
    "        print(Person.country)\n",
    "        \n",
    "person = Person()\n",
    "person.Instance()\n",
    "person.ClassMethod()\n",
    "person.StaticMethod()"
   ]
  },
  {
   "cell_type": "code",
   "execution_count": 20,
   "id": "9d55f049",
   "metadata": {},
   "outputs": [
    {
     "name": "stdout",
     "output_type": "stream",
     "text": [
      "guntur before modifying with any one instance\n",
      "{}\n",
      "{'__module__': '__main__', 'city': 'guntur', 'Instance': <function Person.Instance at 0x7fee74076d30>, '__dict__': <attribute '__dict__' of 'Person' objects>, '__weakref__': <attribute '__weakref__' of 'Person' objects>, '__doc__': None}\n",
      "{}\n",
      "{'__module__': '__main__', 'city': 'chirala', 'Instance': <function Person.Instance at 0x7fee74076d30>, '__dict__': <attribute '__dict__' of 'Person' objects>, '__weakref__': <attribute '__weakref__' of 'Person' objects>, '__doc__': None}\n",
      "chirala after modifying with atleast one instance\n"
     ]
    }
   ],
   "source": [
    "# where can we modify the class variable?\n",
    "# anywhere with the help of class name if we are trying to modify in class method then use odf cls variable.\n",
    "class Person:\n",
    "    city = \"guntur\"\n",
    "    \n",
    "    def Instance(self):\n",
    "        Person.city = \"chirala\"\n",
    "\n",
    "person = Person()\n",
    "print(person.city, \"before modifying with any one instance\")\n",
    "print(person.__dict__)\n",
    "print(Person.__dict__)\n",
    "person.Instance()\n",
    "print(person.__dict__)\n",
    "print(Person.__dict__)\n",
    "person2  = Person()\n",
    "print(person2.city, \"after modifying with atleast one instance\")"
   ]
  },
  {
   "cell_type": "code",
   "execution_count": 21,
   "id": "e064ed9a",
   "metadata": {},
   "outputs": [
    {
     "name": "stdout",
     "output_type": "stream",
     "text": [
      "p1 140662125246640\n",
      "p2 140662125244528\n"
     ]
    }
   ],
   "source": [
    "class Person:\n",
    "    def __init__(self, name):\n",
    "        self.name = name\n",
    "        \n",
    "        \n",
    "p1 = Person(\"akhil\")\n",
    "print(\"p1\",id(p1))\n",
    "p2 = Person(\"akhil\")\n",
    "print(\"p2\",id(p2))"
   ]
  },
  {
   "cell_type": "code",
   "execution_count": 25,
   "id": "89235f84",
   "metadata": {},
   "outputs": [
    {
     "name": "stdout",
     "output_type": "stream",
     "text": [
      "10\n",
      "888\n"
     ]
    }
   ],
   "source": [
    "# If we change the value of static variable by using either self or object reference variable, then the\n",
    "# value of static variable won't be changed,just a new instance variable with that name will be\n",
    "# added to that particular object.\n",
    "\n",
    "class Test:\n",
    "    a = 10\n",
    "    def m1(self):\n",
    "        self.a = 888\n",
    "        \n",
    "t1 = Test()\n",
    "t1.m1()\n",
    "print(Test.a)\n",
    "print(t1.a)"
   ]
  },
  {
   "cell_type": "code",
   "execution_count": 27,
   "id": "b8ac1bd5",
   "metadata": {},
   "outputs": [
    {
     "name": "stdout",
     "output_type": "stream",
     "text": [
      "888\n",
      "888\n"
     ]
    }
   ],
   "source": [
    "class Test:\n",
    "    a = 10\n",
    "    def m1(self):\n",
    "        Test.a = 888\n",
    "        \n",
    "t1 = Test()\n",
    "t1.m1()\n",
    "\n",
    "print(Test.a)\n",
    "print(t1.a)"
   ]
  },
  {
   "cell_type": "code",
   "execution_count": 43,
   "id": "64e10eec",
   "metadata": {},
   "outputs": [
    {
     "name": "stdout",
     "output_type": "stream",
     "text": [
      "{'score': 123, 'percentage': 1234}\n",
      "200 123 1234\n",
      "{'__module__': '__main__', 'marks': 100, '__init__': <function Person.__init__ at 0x7fee5d3cc700>, 'm1': <function Person.m1 at 0x7fee5d3ccc10>, '__dict__': <attribute '__dict__' of 'Person' objects>, '__weakref__': <attribute '__weakref__' of 'Person' objects>, '__doc__': None}\n",
      "{'score': 123, 'percentage': 1234, 'marks': 200}\n"
     ]
    }
   ],
   "source": [
    "class Person:\n",
    "    \n",
    "    marks = 100\n",
    "    \n",
    "    def __init__(self):\n",
    "        self.score = 123\n",
    "        \n",
    "    def m1(self):\n",
    "        self.percentage = 1234\n",
    "        \n",
    "t1 = Person()\n",
    "t1.m1()\n",
    "print(t1.__dict__)\n",
    "t1.marks = 200\n",
    "print(t1.marks,t1.score,t1.percentage)\n",
    "print(Person.__dict__)\n",
    "print(t1.__dict__)\n",
    "        "
   ]
  },
  {
   "cell_type": "code",
   "execution_count": 37,
   "id": "608596c5",
   "metadata": {},
   "outputs": [
    {
     "name": "stdout",
     "output_type": "stream",
     "text": [
      "{'__module__': '__main__', '__init__': <function Test.__init__ at 0x7fee5d3ccca0>, 'm1': <function Test.m1 at 0x7fee5d3cc8b0>, 'm2': <classmethod object at 0x7fee5d791040>, 'm3': <staticmethod object at 0x7fee5d7912e0>, '__dict__': <attribute '__dict__' of 'Test' objects>, '__weakref__': <attribute '__weakref__' of 'Test' objects>, '__doc__': None, 'b': 20}\n",
      "{'__module__': '__main__', '__init__': <function Test.__init__ at 0x7fee5d3ccca0>, 'm1': <function Test.m1 at 0x7fee5d3cc8b0>, 'm2': <classmethod object at 0x7fee5d791040>, 'm3': <staticmethod object at 0x7fee5d7912e0>, '__dict__': <attribute '__dict__' of 'Test' objects>, '__weakref__': <attribute '__weakref__' of 'Test' objects>, '__doc__': None, 'c': 30}\n",
      "{'__module__': '__main__', '__init__': <function Test.__init__ at 0x7fee5d3ccca0>, 'm1': <function Test.m1 at 0x7fee5d3cc8b0>, 'm2': <classmethod object at 0x7fee5d791040>, 'm3': <staticmethod object at 0x7fee5d7912e0>, '__dict__': <attribute '__dict__' of 'Test' objects>, '__weakref__': <attribute '__weakref__' of 'Test' objects>, '__doc__': None, 'd': 39}\n",
      "{'__module__': '__main__', '__init__': <function Test.__init__ at 0x7fee5d3ccca0>, 'm1': <function Test.m1 at 0x7fee5d3cc8b0>, 'm2': <classmethod object at 0x7fee5d791040>, 'm3': <staticmethod object at 0x7fee5d7912e0>, '__dict__': <attribute '__dict__' of 'Test' objects>, '__weakref__': <attribute '__weakref__' of 'Test' objects>, '__doc__': None, 'e': 89, 't': 90}\n",
      "*****************\n",
      "89 yj\n",
      "***********************\n"
     ]
    },
    {
     "ename": "AttributeError",
     "evalue": "e",
     "output_type": "error",
     "traceback": [
      "\u001b[0;31m---------------------------------------------------------------------------\u001b[0m",
      "\u001b[0;31mAttributeError\u001b[0m                            Traceback (most recent call last)",
      "\u001b[0;32m/tmp/ipykernel_26765/4189874588.py\u001b[0m in \u001b[0;36m<module>\u001b[0;34m\u001b[0m\n\u001b[1;32m     31\u001b[0m \u001b[0mprint\u001b[0m\u001b[0;34m(\u001b[0m\u001b[0mt1\u001b[0m\u001b[0;34m.\u001b[0m\u001b[0me\u001b[0m\u001b[0;34m,\u001b[0m\u001b[0;34m\"yj\"\u001b[0m\u001b[0;34m)\u001b[0m\u001b[0;34m\u001b[0m\u001b[0;34m\u001b[0m\u001b[0m\n\u001b[1;32m     32\u001b[0m \u001b[0mprint\u001b[0m\u001b[0;34m(\u001b[0m\u001b[0;34m\"***********************\"\u001b[0m\u001b[0;34m)\u001b[0m\u001b[0;34m\u001b[0m\u001b[0;34m\u001b[0m\u001b[0m\n\u001b[0;32m---> 33\u001b[0;31m \u001b[0;32mdel\u001b[0m \u001b[0mt1\u001b[0m\u001b[0;34m.\u001b[0m\u001b[0me\u001b[0m\u001b[0;34m\u001b[0m\u001b[0;34m\u001b[0m\u001b[0m\n\u001b[0m\u001b[1;32m     34\u001b[0m \u001b[0mprint\u001b[0m\u001b[0;34m(\u001b[0m\u001b[0mTest\u001b[0m\u001b[0;34m.\u001b[0m\u001b[0m__dict__\u001b[0m\u001b[0;34m)\u001b[0m\u001b[0;34m\u001b[0m\u001b[0;34m\u001b[0m\u001b[0m\n",
      "\u001b[0;31mAttributeError\u001b[0m: e"
     ]
    }
   ],
   "source": [
    "class Test:\n",
    "    a = 10\n",
    "    def __init__(self):\n",
    "        Test.b = 20\n",
    "        del Test.a\n",
    "        \n",
    "    def m1(self):\n",
    "        Test.c = 30\n",
    "        del Test.b\n",
    "        \n",
    "    @classmethod    \n",
    "    def m2(cls):\n",
    "        Test.d = 39\n",
    "        del Test.c\n",
    "        \n",
    "    @staticmethod\n",
    "    def m3():\n",
    "        Test.e = 89\n",
    "        Test.t = 90\n",
    "        del Test.d\n",
    "        \n",
    "t1 = Test()\n",
    "print(Test.__dict__)\n",
    "t1.m1()\n",
    "print(Test.__dict__)\n",
    "t1.m2()\n",
    "print(Test.__dict__)\n",
    "t1.m3()\n",
    "print(Test.__dict__)\n",
    "print(\"*****************\")\n",
    "print(t1.e,\"yj\")\n",
    "print(\"***********************\")\n",
    "del t1.e\n",
    "print(Test.__dict__)"
   ]
  },
  {
   "cell_type": "code",
   "execution_count": 2,
   "id": "277ab0b7",
   "metadata": {},
   "outputs": [
    {
     "name": "stdout",
     "output_type": "stream",
     "text": [
      "{'__module__': '__main__', '__init__': <function Test.__init__ at 0x7fc7b81791f0>, 'm1': <function Test.m1 at 0x7fc7b8179160>, 'm2': <classmethod object at 0x7fc7b8183220>, 'm3': <staticmethod object at 0x7fc7b8183250>, '__dict__': <attribute '__dict__' of 'Test' objects>, '__weakref__': <attribute '__weakref__' of 'Test' objects>, '__doc__': None, 'b': 20}\n",
      "{'__module__': '__main__', '__init__': <function Test.__init__ at 0x7fc7b81791f0>, 'm1': <function Test.m1 at 0x7fc7b8179160>, 'm2': <classmethod object at 0x7fc7b8183220>, 'm3': <staticmethod object at 0x7fc7b8183250>, '__dict__': <attribute '__dict__' of 'Test' objects>, '__weakref__': <attribute '__weakref__' of 'Test' objects>, '__doc__': None, 'c': 30}\n",
      "{'__module__': '__main__', '__init__': <function Test.__init__ at 0x7fc7b81791f0>, 'm1': <function Test.m1 at 0x7fc7b8179160>, 'm2': <classmethod object at 0x7fc7b8183220>, 'm3': <staticmethod object at 0x7fc7b8183250>, '__dict__': <attribute '__dict__' of 'Test' objects>, '__weakref__': <attribute '__weakref__' of 'Test' objects>, '__doc__': None, 'd': 39}\n",
      "{'__module__': '__main__', '__init__': <function Test.__init__ at 0x7fc7b81791f0>, 'm1': <function Test.m1 at 0x7fc7b8179160>, 'm2': <classmethod object at 0x7fc7b8183220>, 'm3': <staticmethod object at 0x7fc7b8183250>, '__dict__': <attribute '__dict__' of 'Test' objects>, '__weakref__': <attribute '__weakref__' of 'Test' objects>, '__doc__': None, 'e': 89, 't': 90}\n",
      "{'__module__': '__main__', '__init__': <function Test.__init__ at 0x7fc7b81791f0>, 'm1': <function Test.m1 at 0x7fc7b8179160>, 'm2': <classmethod object at 0x7fc7b8183220>, 'm3': <staticmethod object at 0x7fc7b8183250>, '__dict__': <attribute '__dict__' of 'Test' objects>, '__weakref__': <attribute '__weakref__' of 'Test' objects>, '__doc__': None, 't': 90}\n"
     ]
    }
   ],
   "source": [
    "class Test:\n",
    "    a = 10\n",
    "    def __init__(self):\n",
    "        Test.b = 20\n",
    "        del Test.a\n",
    "        \n",
    "    def m1(self):\n",
    "        Test.c = 30\n",
    "        del Test.b\n",
    "        \n",
    "    @classmethod    \n",
    "    def m2(cls):\n",
    "        Test.d = 39\n",
    "        del Test.c\n",
    "        \n",
    "    @staticmethod\n",
    "    def m3():\n",
    "        Test.e = 89\n",
    "        Test.t = 90\n",
    "        del Test.d\n",
    "        \n",
    "t1 = Test()\n",
    "print(Test.__dict__)\n",
    "t1.m1()\n",
    "print(Test.__dict__)\n",
    "t1.m2()\n",
    "print(Test.__dict__)\n",
    "t1.m3()\n",
    "print(Test.__dict__)\n",
    "del Test.e\n",
    "print(Test.__dict__)"
   ]
  },
  {
   "cell_type": "code",
   "execution_count": 46,
   "id": "a5517058",
   "metadata": {},
   "outputs": [
    {
     "name": "stdout",
     "output_type": "stream",
     "text": [
      "100\n",
      "2000\n"
     ]
    },
    {
     "ename": "AttributeError",
     "evalue": "'Test' object has no attribute 'a'",
     "output_type": "error",
     "traceback": [
      "\u001b[0;31m---------------------------------------------------------------------------\u001b[0m",
      "\u001b[0;31mAttributeError\u001b[0m                            Traceback (most recent call last)",
      "\u001b[0;32m/tmp/ipykernel_26765/2884644308.py\u001b[0m in \u001b[0;36m<module>\u001b[0;34m\u001b[0m\n\u001b[1;32m     14\u001b[0m \u001b[0mt\u001b[0m\u001b[0;34m.\u001b[0m\u001b[0mm1\u001b[0m\u001b[0;34m(\u001b[0m\u001b[0;34m)\u001b[0m\u001b[0;34m\u001b[0m\u001b[0;34m\u001b[0m\u001b[0m\n\u001b[1;32m     15\u001b[0m \u001b[0mt\u001b[0m\u001b[0;34m.\u001b[0m\u001b[0mm2\u001b[0m\u001b[0;34m(\u001b[0m\u001b[0;34m)\u001b[0m\u001b[0;34m\u001b[0m\u001b[0;34m\u001b[0m\u001b[0m\n\u001b[0;32m---> 16\u001b[0;31m \u001b[0mprint\u001b[0m\u001b[0;34m(\u001b[0m\u001b[0mt\u001b[0m\u001b[0;34m.\u001b[0m\u001b[0ma\u001b[0m\u001b[0;34m)\u001b[0m\u001b[0;34m\u001b[0m\u001b[0;34m\u001b[0m\u001b[0m\n\u001b[0m\u001b[1;32m     17\u001b[0m \u001b[0mprint\u001b[0m\u001b[0;34m(\u001b[0m\u001b[0mt\u001b[0m\u001b[0;34m.\u001b[0m\u001b[0mb\u001b[0m\u001b[0;34m)\u001b[0m\u001b[0;34m\u001b[0m\u001b[0;34m\u001b[0m\u001b[0m\n",
      "\u001b[0;31mAttributeError\u001b[0m: 'Test' object has no attribute 'a'"
     ]
    }
   ],
   "source": [
    "# local Variable\n",
    "# some times too meet temperory requirements , we declare local variables inside a method directly, local variables \n",
    "# are called when the method execution starts and get deleted when the method execution get starts \n",
    "\n",
    "class Test:\n",
    "    def m1(self):\n",
    "        a = 100\n",
    "        print(a)\n",
    "    def m2(self):\n",
    "        b=2000\n",
    "        print(b)\n",
    "        \n",
    "t = Test()\n",
    "t.m1()\n",
    "t.m2()\n",
    "print(t.a)\n",
    "print(t.b)"
   ]
  },
  {
   "cell_type": "code",
   "execution_count": 50,
   "id": "ab929ce7",
   "metadata": {},
   "outputs": [
    {
     "name": "stdout",
     "output_type": "stream",
     "text": [
      "100\n",
      "2000\n"
     ]
    },
    {
     "ename": "NameError",
     "evalue": "name 'a' is not defined",
     "output_type": "error",
     "traceback": [
      "\u001b[0;31m---------------------------------------------------------------------------\u001b[0m",
      "\u001b[0;31mNameError\u001b[0m                                 Traceback (most recent call last)",
      "\u001b[0;32m/tmp/ipykernel_26765/3108434520.py\u001b[0m in \u001b[0;36m<module>\u001b[0;34m\u001b[0m\n\u001b[1;32m     11\u001b[0m \u001b[0mp\u001b[0m \u001b[0;34m=\u001b[0m \u001b[0mTest\u001b[0m\u001b[0;34m(\u001b[0m\u001b[0;34m)\u001b[0m\u001b[0;34m\u001b[0m\u001b[0;34m\u001b[0m\u001b[0m\n\u001b[1;32m     12\u001b[0m \u001b[0mp\u001b[0m\u001b[0;34m.\u001b[0m\u001b[0mm1\u001b[0m\u001b[0;34m(\u001b[0m\u001b[0;34m)\u001b[0m\u001b[0;34m\u001b[0m\u001b[0;34m\u001b[0m\u001b[0m\n\u001b[0;32m---> 13\u001b[0;31m \u001b[0mp\u001b[0m\u001b[0;34m.\u001b[0m\u001b[0mm2\u001b[0m\u001b[0;34m(\u001b[0m\u001b[0;34m)\u001b[0m\u001b[0;34m\u001b[0m\u001b[0;34m\u001b[0m\u001b[0m\n\u001b[0m",
      "\u001b[0;32m/tmp/ipykernel_26765/3108434520.py\u001b[0m in \u001b[0;36mm2\u001b[0;34m(self)\u001b[0m\n\u001b[1;32m      7\u001b[0m         \u001b[0mb\u001b[0m \u001b[0;34m=\u001b[0m \u001b[0;36m2000\u001b[0m\u001b[0;34m\u001b[0m\u001b[0;34m\u001b[0m\u001b[0m\n\u001b[1;32m      8\u001b[0m         \u001b[0mprint\u001b[0m\u001b[0;34m(\u001b[0m\u001b[0mb\u001b[0m\u001b[0;34m)\u001b[0m\u001b[0;34m\u001b[0m\u001b[0;34m\u001b[0m\u001b[0m\n\u001b[0;32m----> 9\u001b[0;31m         \u001b[0mprint\u001b[0m\u001b[0;34m(\u001b[0m\u001b[0ma\u001b[0m\u001b[0;34m)\u001b[0m \u001b[0;31m# throws an error as it is not accessble as we are not calling that function\u001b[0m\u001b[0;34m\u001b[0m\u001b[0;34m\u001b[0m\u001b[0m\n\u001b[0m\u001b[1;32m     10\u001b[0m \u001b[0;34m\u001b[0m\u001b[0m\n\u001b[1;32m     11\u001b[0m \u001b[0mp\u001b[0m \u001b[0;34m=\u001b[0m \u001b[0mTest\u001b[0m\u001b[0;34m(\u001b[0m\u001b[0;34m)\u001b[0m\u001b[0;34m\u001b[0m\u001b[0;34m\u001b[0m\u001b[0m\n",
      "\u001b[0;31mNameError\u001b[0m: name 'a' is not defined"
     ]
    }
   ],
   "source": [
    "# example 2\n",
    "class Test:\n",
    "    def m1(self):\n",
    "        a = 100\n",
    "        print(a)\n",
    "    def m2(self):\n",
    "        b = 2000\n",
    "        print(b) \n",
    "        print(a) # throws an error as it is not accessble as we are not calling that function\n",
    "        \n",
    "p = Test()\n",
    "p.m1()\n",
    "p.m2()"
   ]
  },
  {
   "cell_type": "code",
   "execution_count": 51,
   "id": "17b86282",
   "metadata": {},
   "outputs": [
    {
     "ename": "AttributeError",
     "evalue": "'Test' object has no attribute 'a'",
     "output_type": "error",
     "traceback": [
      "\u001b[0;31m---------------------------------------------------------------------------\u001b[0m",
      "\u001b[0;31mAttributeError\u001b[0m                            Traceback (most recent call last)",
      "\u001b[0;32m/tmp/ipykernel_26765/2760558374.py\u001b[0m in \u001b[0;36m<module>\u001b[0;34m\u001b[0m\n\u001b[1;32m     10\u001b[0m \u001b[0;34m\u001b[0m\u001b[0m\n\u001b[1;32m     11\u001b[0m \u001b[0mp\u001b[0m \u001b[0;34m=\u001b[0m \u001b[0mTest\u001b[0m\u001b[0;34m(\u001b[0m\u001b[0;34m)\u001b[0m\u001b[0;34m\u001b[0m\u001b[0;34m\u001b[0m\u001b[0m\n\u001b[0;32m---> 12\u001b[0;31m \u001b[0mp\u001b[0m\u001b[0;34m.\u001b[0m\u001b[0mm2\u001b[0m\u001b[0;34m(\u001b[0m\u001b[0;34m)\u001b[0m\u001b[0;34m\u001b[0m\u001b[0;34m\u001b[0m\u001b[0m\n\u001b[0m",
      "\u001b[0;32m/tmp/ipykernel_26765/2760558374.py\u001b[0m in \u001b[0;36mm2\u001b[0;34m(self)\u001b[0m\n\u001b[1;32m      6\u001b[0m     \u001b[0;32mdef\u001b[0m \u001b[0mm2\u001b[0m\u001b[0;34m(\u001b[0m\u001b[0mself\u001b[0m\u001b[0;34m)\u001b[0m\u001b[0;34m:\u001b[0m\u001b[0;34m\u001b[0m\u001b[0;34m\u001b[0m\u001b[0m\n\u001b[1;32m      7\u001b[0m         \u001b[0mself\u001b[0m\u001b[0;34m.\u001b[0m\u001b[0mb\u001b[0m \u001b[0;34m=\u001b[0m \u001b[0;36m200\u001b[0m\u001b[0;34m\u001b[0m\u001b[0;34m\u001b[0m\u001b[0m\n\u001b[0;32m----> 8\u001b[0;31m         \u001b[0mself\u001b[0m\u001b[0;34m.\u001b[0m\u001b[0mc\u001b[0m \u001b[0;34m=\u001b[0m \u001b[0mself\u001b[0m\u001b[0;34m.\u001b[0m\u001b[0ma\u001b[0m\u001b[0;34m+\u001b[0m\u001b[0mself\u001b[0m\u001b[0;34m.\u001b[0m\u001b[0mb\u001b[0m\u001b[0;34m\u001b[0m\u001b[0;34m\u001b[0m\u001b[0m\n\u001b[0m\u001b[1;32m      9\u001b[0m         \u001b[0;32mreturn\u001b[0m \u001b[0mself\u001b[0m\u001b[0;34m.\u001b[0m\u001b[0mc\u001b[0m\u001b[0;34m\u001b[0m\u001b[0;34m\u001b[0m\u001b[0m\n\u001b[1;32m     10\u001b[0m \u001b[0;34m\u001b[0m\u001b[0m\n",
      "\u001b[0;31mAttributeError\u001b[0m: 'Test' object has no attribute 'a'"
     ]
    }
   ],
   "source": [
    "# example 3\n",
    "class Test:\n",
    "    def m1(self):\n",
    "        self.a = 100\n",
    "        \n",
    "    def m2(self):\n",
    "        self.b = 200\n",
    "        self.c = self.a+self.b\n",
    "        return self.c\n",
    "    \n",
    "p = Test()\n",
    "p.m2() # throws error because the scope of the variable a is not there as it is in the method m1 which not called"
   ]
  },
  {
   "cell_type": "code",
   "execution_count": 59,
   "id": "5b83fb47",
   "metadata": {},
   "outputs": [
    {
     "name": "stdout",
     "output_type": "stream",
     "text": [
      "100\n"
     ]
    }
   ],
   "source": [
    "class Test:\n",
    "    def m1(self):\n",
    "        self.a = 100\n",
    "        \n",
    "    def m2(self):\n",
    "        self.b = 200\n",
    "        self.c = self.a+self.b\n",
    "        return self.c\n",
    "    \n",
    "p = Test()\n",
    "m = p.m1()\n",
    "a = p.m2()\n",
    "p.m1()\n",
    "print(p.a)"
   ]
  },
  {
   "cell_type": "markdown",
   "id": "1b7d575d",
   "metadata": {},
   "source": [
    "# Private variables\n",
    "Encapsulation is packing of function and data that works on data with in object, by doing so you can hide it from outside the world\n",
    "\n",
    "A class is an example of the encapsulation. it bundles data and the functions into a single unit, and class provides access to the attributes with the help of functions\n",
    "\n",
    "The idea of information hiding is that , if you have attribute which is not visible to outside world , then you can control the access to its value to make sure that its values are in valid state\n"
   ]
  },
  {
   "cell_type": "code",
   "execution_count": 60,
   "id": "b9412c5b",
   "metadata": {},
   "outputs": [],
   "source": [
    "class Counter:\n",
    "    def __init__(self):\n",
    "        self.current = 0\n",
    "\n",
    "    def increment(self):\n",
    "        self.current += 1\n",
    "\n",
    "    def value(self):\n",
    "        return self.current\n",
    "\n",
    "    def reset(self):\n",
    "        self.current = 0\n"
   ]
  },
  {
   "cell_type": "code",
   "execution_count": 61,
   "id": "6f446ce5",
   "metadata": {},
   "outputs": [
    {
     "name": "stdout",
     "output_type": "stream",
     "text": [
      "3\n"
     ]
    }
   ],
   "source": [
    "counter = Counter()\n",
    "\n",
    "\n",
    "counter.increment()\n",
    "counter.increment()\n",
    "counter.increment()\n",
    "\n",
    "print(counter.value())\n"
   ]
  },
  {
   "cell_type": "code",
   "execution_count": 63,
   "id": "eb975c5b",
   "metadata": {},
   "outputs": [
    {
     "name": "stdout",
     "output_type": "stream",
     "text": [
      "-999\n"
     ]
    }
   ],
   "source": [
    "# the above example works fine , but there is an issue , with the help of counter you will be \n",
    "#having acces to the current variable, you can change it as required as shown below\n",
    "counter = Counter()\n",
    "\n",
    "counter.increment()\n",
    "counter.increment()\n",
    "counter.current = -999\n",
    "\n",
    "print(counter.value())\n"
   ]
  },
  {
   "cell_type": "code",
   "execution_count": 65,
   "id": "50fff837",
   "metadata": {},
   "outputs": [
    {
     "name": "stdout",
     "output_type": "stream",
     "text": [
      "3\n",
      "787\n"
     ]
    }
   ],
   "source": [
    "# In order to prevent the current variable being modified we got the concept of private variables.\n",
    "# private variables can only be accessible through methods of the class , saying that this variables are not accessible outside the class.\n",
    "# you can define the private variables with the single (_)\n",
    "# Python doesn’t have a concept of private attributes. In other words, all attributes are accessible from the outside of a class.\n",
    "class Counter:\n",
    "    def __init__(self):\n",
    "        self._current = 0\n",
    "\n",
    "    def increment(self):\n",
    "        self._current += 1\n",
    "\n",
    "    def value(self):\n",
    "        return self._current\n",
    "\n",
    "    def reset(self):\n",
    "        self._current = 0\n",
    "c = Counter()\n",
    "c.increment()\n",
    "c.increment()\n",
    "c.increment()\n",
    "print(c._current)\n",
    "c._current=787\n",
    "print(c._current)"
   ]
  },
  {
   "cell_type": "code",
   "execution_count": 66,
   "id": "552db852",
   "metadata": {},
   "outputs": [],
   "source": [
    "# Name mangling\n",
    "# if you add __ to an attribute ,python automatically will change the attribute __atribute to _class__attribute\n",
    "# this is name mangling in python\n",
    "# By doing this, you cannot access the __attribute directly from the outside of a class like:\n",
    "# instance.__attribute\n",
    "# however you can still access instance._class__attribute"
   ]
  },
  {
   "cell_type": "code",
   "execution_count": 67,
   "id": "6beebcc1",
   "metadata": {},
   "outputs": [],
   "source": [
    "class Counter:\n",
    "    def __init__(self):\n",
    "        self.__current = 0\n",
    "\n",
    "    def increment(self):\n",
    "        self.__current += 1\n",
    "\n",
    "    def value(self):\n",
    "        return self.__current\n",
    "\n",
    "    def reset(self):\n",
    "        self.__current = 0\n",
    "\n",
    "\n"
   ]
  },
  {
   "cell_type": "code",
   "execution_count": 68,
   "id": "9f6db373",
   "metadata": {},
   "outputs": [
    {
     "ename": "AttributeError",
     "evalue": "'Counter' object has no attribute '__current'",
     "output_type": "error",
     "traceback": [
      "\u001b[0;31m---------------------------------------------------------------------------\u001b[0m",
      "\u001b[0;31mAttributeError\u001b[0m                            Traceback (most recent call last)",
      "\u001b[0;32m/tmp/ipykernel_26765/1080790172.py\u001b[0m in \u001b[0;36m<module>\u001b[0;34m\u001b[0m\n\u001b[1;32m      1\u001b[0m \u001b[0mcounter\u001b[0m \u001b[0;34m=\u001b[0m \u001b[0mCounter\u001b[0m\u001b[0;34m(\u001b[0m\u001b[0;34m)\u001b[0m\u001b[0;34m\u001b[0m\u001b[0;34m\u001b[0m\u001b[0m\n\u001b[0;32m----> 2\u001b[0;31m \u001b[0mprint\u001b[0m\u001b[0;34m(\u001b[0m\u001b[0mcounter\u001b[0m\u001b[0;34m.\u001b[0m\u001b[0m__current\u001b[0m\u001b[0;34m)\u001b[0m\u001b[0;34m\u001b[0m\u001b[0;34m\u001b[0m\u001b[0m\n\u001b[0m",
      "\u001b[0;31mAttributeError\u001b[0m: 'Counter' object has no attribute '__current'"
     ]
    }
   ],
   "source": [
    "counter = Counter()\n",
    "print(counter.__current)"
   ]
  },
  {
   "cell_type": "code",
   "execution_count": 69,
   "id": "2ee767b9",
   "metadata": {},
   "outputs": [
    {
     "name": "stdout",
     "output_type": "stream",
     "text": [
      "0\n"
     ]
    }
   ],
   "source": [
    "counter = Counter()\n",
    "print(counter._Counter__current)"
   ]
  },
  {
   "cell_type": "code",
   "execution_count": null,
   "id": "4593037e",
   "metadata": {},
   "outputs": [],
   "source": []
  }
 ],
 "metadata": {
  "kernelspec": {
   "display_name": "Python 3 (ipykernel)",
   "language": "python",
   "name": "python3"
  },
  "language_info": {
   "codemirror_mode": {
    "name": "ipython",
    "version": 3
   },
   "file_extension": ".py",
   "mimetype": "text/x-python",
   "name": "python",
   "nbconvert_exporter": "python",
   "pygments_lexer": "ipython3",
   "version": "3.8.10"
  }
 },
 "nbformat": 4,
 "nbformat_minor": 5
}
