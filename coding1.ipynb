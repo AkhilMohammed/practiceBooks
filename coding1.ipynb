{
 "cells": [
  {
   "cell_type": "code",
   "execution_count": 1,
   "id": "a39e96eb",
   "metadata": {},
   "outputs": [],
   "source": [
    "# decorators"
   ]
  },
  {
   "cell_type": "code",
   "execution_count": 47,
   "id": "8c7cd16d",
   "metadata": {},
   "outputs": [
    {
     "name": "stdout",
     "output_type": "stream",
     "text": [
      "enter a number2340567\n"
     ]
    },
    {
     "data": {
      "text/plain": [
       "56"
      ]
     },
     "execution_count": 47,
     "metadata": {},
     "output_type": "execute_result"
    }
   ],
   "source": [
    "def factorNumber(num):\n",
    "    num = str(num)\n",
    "    list1 = []\n",
    "    list2 = []\n",
    "    orderDict = {}\n",
    "    count = 0\n",
    "    value = 0\n",
    "    change = 0\n",
    "    for i in range(len(str(num))):\n",
    "        newNum = int(str(num)[i:i+2])\n",
    "        if i ==len(num)-1:\n",
    "            break\n",
    "        list1.append(newNum)\n",
    "    for items in list1:\n",
    "        for ind in range(1, items+1):\n",
    "            if items % ind == 0:\n",
    "                if str(ind) in str(num):\n",
    "                    count +=1\n",
    "        if orderDict == {}:\n",
    "            orderDict[items] = count\n",
    "\n",
    "        elif orderDict[list(orderDict.keys())[0]] < count:\n",
    "            orderDict = {}\n",
    "            orderDict[items] = count\n",
    "        elif orderDict[list(orderDict.keys())[0]] == count:\n",
    "            if items > list(orderDict.keys())[0]:\n",
    "                orderDict = {}\n",
    "                orderDict[items] = count\n",
    "        count = 0\n",
    "        value = items\n",
    "    return list(orderDict.keys())[0]\n",
    "    \n",
    "num = int(input(\"enter a number\"))\n",
    "factorNumber(num)"
   ]
  },
  {
   "cell_type": "code",
   "execution_count": 4,
   "id": "5533fa1e",
   "metadata": {},
   "outputs": [
    {
     "data": {
      "text/plain": [
       "'23'"
      ]
     },
     "execution_count": 4,
     "metadata": {},
     "output_type": "execute_result"
    }
   ],
   "source": [
    "st = '230456'\n",
    "st[0:2]"
   ]
  },
  {
   "cell_type": "code",
   "execution_count": 30,
   "id": "08765c39",
   "metadata": {},
   "outputs": [
    {
     "data": {
      "text/plain": [
       "'akhil'"
      ]
     },
     "execution_count": 30,
     "metadata": {},
     "output_type": "execute_result"
    }
   ],
   "source": [
    "a = {\"akhil\":1}\n",
    "c = list(a.keys())[0]\n",
    "c"
   ]
  },
  {
   "cell_type": "code",
   "execution_count": null,
   "id": "fe76a6aa",
   "metadata": {},
   "outputs": [],
   "source": []
  }
 ],
 "metadata": {
  "kernelspec": {
   "display_name": "Python 3 (ipykernel)",
   "language": "python",
   "name": "python3"
  },
  "language_info": {
   "codemirror_mode": {
    "name": "ipython",
    "version": 3
   },
   "file_extension": ".py",
   "mimetype": "text/x-python",
   "name": "python",
   "nbconvert_exporter": "python",
   "pygments_lexer": "ipython3",
   "version": "3.8.10"
  }
 },
 "nbformat": 4,
 "nbformat_minor": 5
}
