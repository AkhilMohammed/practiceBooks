{
 "cells": [
  {
   "cell_type": "code",
   "execution_count": 4,
   "id": "c22f64d8",
   "metadata": {},
   "outputs": [
    {
     "name": "stdout",
     "output_type": "stream",
     "text": [
      "n 1\n",
      "n 2\n",
      "n 3\n",
      "n 4\n",
      "Factorial of 4 is : 24\n",
      "n 1\n",
      "n 2\n",
      "n 3\n",
      "n 4\n",
      "n 5\n",
      "Factorial of 5 is : 120\n"
     ]
    }
   ],
   "source": [
    "def multiply(n):\n",
    "    if n==0:\n",
    "        \n",
    "        result=1\n",
    "    else:\n",
    "        result=n*multiply(n-1)\n",
    "        print(\"n\",n)\n",
    "        #print(result,\"fdf\")\n",
    "    return result\n",
    "print(\"Factorial of 4 is :\",multiply(4))\n",
    "print(\"Factorial of 5 is :\",multiply(5))"
   ]
  },
  {
   "cell_type": "code",
   "execution_count": 12,
   "id": "a56de5ec",
   "metadata": {},
   "outputs": [
    {
     "name": "stdout",
     "output_type": "stream",
     "text": [
      "before {'a': 1, 'b': 1, 'c': 1, 'd': 1, 'f': 1}\n",
      "{'a': 1, 'b': 1, 'c': 1, 'd': 1, 'f': 1}\n",
      "after {'a': 1, 'b': 1, 'c': 1, 'd': 1, 'f': 1}\n",
      "before {'a': 2, 'b': 2, 'c': 2, 'd': 2, 'f': 2}\n",
      "{'a': 2, 'b': 2, 'c': 2, 'd': 2, 'f': 2}\n",
      "after {'a': 2, 'b': 2, 'c': 2, 'd': 2, 'f': 2}\n",
      "before {'a': 3, 'b': 3, 'c': 3, 'd': 3, 'f': 3}\n",
      "{'a': 3, 'b': 3, 'c': 3, 'd': 3, 'f': 3}\n",
      "after {'a': 3, 'b': 3, 'c': 3, 'd': 3, 'f': 3}\n",
      "before {'a': 4, 'b': 4, 'c': 4, 'd': 4, 'f': 4}\n",
      "{'a': 4, 'b': 4, 'c': 4, 'd': 4, 'f': 4}\n",
      "after {'a': 4, 'b': 4, 'c': 4, 'd': 4, 'f': 4}\n",
      "before {'a': 5, 'b': 5, 'c': 5, 'd': 5, 'f': 5}\n",
      "{'a': 5, 'b': 5, 'c': 5, 'd': 5, 'f': 5}\n",
      "after {'a': 5, 'b': 5, 'c': 5, 'd': 5, 'f': 5}\n",
      "before {'a': 6, 'b': 6, 'c': 6, 'd': 6, 'f': 6}\n",
      "{'a': 6, 'b': 6, 'c': 6, 'd': 6, 'f': 6}\n",
      "after {'a': 6, 'b': 6, 'c': 6, 'd': 6, 'f': 6}\n",
      "before {'a': 7, 'b': 7, 'c': 7, 'd': 7, 'f': 7}\n",
      "{'a': 7, 'b': 7, 'c': 7, 'd': 7, 'f': 7}\n",
      "after {'a': 7, 'b': 7, 'c': 7, 'd': 7, 'f': 7}\n",
      "before {'a': 8, 'b': 8, 'c': 8, 'd': 8, 'f': 8}\n",
      "{'a': 8, 'b': 8, 'c': 8, 'd': 8, 'f': 8}\n",
      "after {'a': 8, 'b': 8, 'c': 8, 'd': 8, 'f': 8}\n",
      "before {'a': 9, 'b': 9, 'c': 9, 'd': 9, 'f': 9}\n",
      "{'a': 9, 'b': 9, 'c': 9, 'd': 9, 'f': 9}\n",
      "after {'a': 9, 'b': 9, 'c': 9, 'd': 9, 'f': 9}\n",
      "before {'a': 10, 'b': 10, 'c': 10, 'd': 10, 'f': 10}\n",
      "{'a': 10, 'b': 10, 'c': 10, 'd': 10, 'f': 10}\n",
      "after {'a': 10, 'b': 10, 'c': 10, 'd': 10, 'f': 10}\n"
     ]
    }
   ],
   "source": [
    "def Genratare(x):\n",
    "    for i in x:\n",
    "        data = {\"a\":i,\n",
    "               \"b\":i,\n",
    "                \"c\":i,\n",
    "                \"d\":i,\n",
    "                \"f\":i\n",
    "               }\n",
    "        print(\"before\",data)\n",
    "        yield data\n",
    "        print(\"after\",data)\n",
    "        \n",
    "g1 = Genratare([1,2,3,4,5,6,7,8,9,10])\n",
    "for i in g1:\n",
    "    print(i)\n"
   ]
  },
  {
   "cell_type": "code",
   "execution_count": 18,
   "id": "946e1881",
   "metadata": {},
   "outputs": [
    {
     "name": "stdout",
     "output_type": "stream",
     "text": [
      "special case \n",
      "bad morning\n",
      "it doesont gone to the fuction here itself we are returning\n",
      "special case \n",
      "not a special case\n",
      "hello fayaz good morning\n",
      "500\n",
      "calling of function done and went inside\n"
     ]
    }
   ],
   "source": [
    "#Function Decorators:\n",
    "#decorator is a function which takes a function as a parameter and extend its functionality and returns modified function with extended functionality\n",
    "\n",
    "def decor(func):\n",
    "    def inner(name):\n",
    "        print(\"special case \")\n",
    "        if name == 'akhil':\n",
    "            print(\"bad morning\")\n",
    "            print(\"it doesont gone to the fuction here itself we are returning\")\n",
    "        else:\n",
    "            print(\"not a special case\")\n",
    "            func(name)\n",
    "            print(\"calling of function done and went inside\")\n",
    "    return inner\n",
    "\n",
    "\n",
    "@decor\n",
    "def wish(name):\n",
    "    print(\"hello \"+name+\" good morning\")\n",
    "    a = 10\n",
    "    b = 20\n",
    "    c = 30\n",
    "    print(a*b+c*a)\n",
    "    \n",
    "wish('akhil')\n",
    "wish('fayaz')"
   ]
  },
  {
   "cell_type": "code",
   "execution_count": 36,
   "id": "bc417d45",
   "metadata": {},
   "outputs": [
    {
     "name": "stdout",
     "output_type": "stream",
     "text": [
      "hello akhil good morning\n",
      "hello fayaz good morning\n",
      "dont allow\n",
      "hello fayaz good morning\n"
     ]
    }
   ],
   "source": [
    "def decorate(function):\n",
    "    def inner(name):\n",
    "        if name == \"akhil\":\n",
    "            print(\"dont allow\")\n",
    "        else:\n",
    "            function(name)\n",
    "    return inner\n",
    "\n",
    "def wish(name):\n",
    "    print(\"hello \"+name+\" good morning\")\n",
    "    \n",
    "    \n",
    "decorFunction = decorate(wish)\n",
    "\n",
    "s = wish('akhil')  # without decorotor\n",
    "s1 = wish('fayaz')  # without decorotor\n",
    "\n",
    "s2 = decorFunction(\"akhil\") # with decor function\n",
    "s3 = decorFunction(\"fayaz\") # with decor function\n",
    "        "
   ]
  },
  {
   "cell_type": "code",
   "execution_count": 14,
   "id": "300eb071",
   "metadata": {},
   "outputs": [
    {
     "name": "stdout",
     "output_type": "stream",
     "text": [
      "hsku\n",
      "tsku\n",
      "kvfj\n",
      "jujutsu\n",
      "jvs\n",
      "20\n",
      "the value is 400\n"
     ]
    }
   ],
   "source": [
    "# decor Function chaining\n",
    "#decor1\n",
    "#decor2\n",
    "#def func():\n",
    "\n",
    "def decor1(func):\n",
    "    print(\"kvfj\")\n",
    "    def inner(value):\n",
    "        print(\"jujutsu\")\n",
    "        if value in [1,2,3,5,7,9]:\n",
    "            value = value*value\n",
    "            return func(value)\n",
    "        else:\n",
    "            value = 2*value\n",
    "            return func(value)\n",
    "    return inner\n",
    "    \n",
    "def decor2(func):\n",
    "    print('hsku')\n",
    "    def inner(value):\n",
    "        print(\"jvs\")\n",
    "        if value in [2,4,6,8,10]:\n",
    "            value = value**3\n",
    "            return func(value)\n",
    "        else:\n",
    "            print(value)\n",
    "            value = value**2\n",
    "            return func(value)\n",
    "    print(\"tsku\")\n",
    "    return inner\n",
    "\n",
    "@decor1\n",
    "@decor2\n",
    "def Number123(value):\n",
    "    print(\"the value is\",value)\n",
    "    \n",
    "c = Number123(10)\n"
   ]
  },
  {
   "cell_type": "code",
   "execution_count": 17,
   "id": "818ca948",
   "metadata": {},
   "outputs": [
    {
     "data": {
      "text/plain": [
       "[100, 400, 900, 1600, 2500, 3600]"
      ]
     },
     "execution_count": 17,
     "metadata": {},
     "output_type": "execute_result"
    }
   ],
   "source": [
    "# map function\n",
    "# for every element in the sequence apply some functionality and generate a new elemnt with the required modification\n",
    "a = [10,20,30,40,50,60]\n",
    "b = list(map(lambda x:x*x, a))\n",
    "b"
   ]
  },
  {
   "cell_type": "code",
   "execution_count": 20,
   "id": "51716ea2",
   "metadata": {},
   "outputs": [
    {
     "data": {
      "text/plain": [
       "[{'createdBy': 'akhil', 'verified': True},\n",
       " {'createdBy': 'fayz', 'verified': False}]"
      ]
     },
     "execution_count": 20,
     "metadata": {},
     "output_type": "execute_result"
    }
   ],
   "source": [
    "a = [{\"avg\":55,\"sum\":330,\"count\":6,\"createdBy\":\"akhil\"},{\"avg\":55,\"sum\":330,\"count\":5,\"createdBy\":\"fayz\"}]\n",
    "def dictObj(obj):\n",
    "    if obj['avg']*obj['count'] == obj['sum']:\n",
    "        return {\"createdBy\":obj['createdBy'],\"verified\":True}\n",
    "    else:\n",
    "        return {\"createdBy\":obj['createdBy'],\"verified\":False}\n",
    "    \n",
    "b = list(map(dictObj,a))\n",
    "b"
   ]
  },
  {
   "cell_type": "code",
   "execution_count": 26,
   "id": "d3af789b",
   "metadata": {},
   "outputs": [
    {
     "data": {
      "text/plain": [
       "[{'avg': 55, 'sum': 330, 'count': 6, 'createdBy': 'akhil'}]"
      ]
     },
     "execution_count": 26,
     "metadata": {},
     "output_type": "execute_result"
    }
   ],
   "source": [
    "# filter function\n",
    "# we can use filter function to values from the given sequence based on condition\n",
    "\n",
    "a = [{\"avg\":55,\"sum\":330,\"count\":6,\"createdBy\":\"akhil\"},{\"avg\":55,\"sum\":330,\"count\":5,\"createdBy\":\"fayaz\"}]\n",
    "def dictObj(obj):\n",
    "    if obj['avg']*obj['count'] == obj['sum']:\n",
    "        return {\"createdBy\":obj['createdBy'],\"verified\":True}\n",
    "    \n",
    "b = list(filter(dictObj,a))\n",
    "b"
   ]
  },
  {
   "cell_type": "code",
   "execution_count": 27,
   "id": "66d1a94d",
   "metadata": {},
   "outputs": [
    {
     "data": {
      "text/plain": [
       "[{'avg': 55, 'sum': 330, 'count': 5, 'createdBy': 'fayaz'}]"
      ]
     },
     "execution_count": 27,
     "metadata": {},
     "output_type": "execute_result"
    }
   ],
   "source": [
    "a = [{\"avg\":55,\"sum\":330,\"count\":6,\"createdBy\":\"akhil\"},{\"avg\":55,\"sum\":330,\"count\":5,\"createdBy\":\"fayaz\"}]\n",
    "def dictObj(obj):\n",
    "    if not obj['avg']*obj['count'] == obj['sum']:\n",
    "        return True\n",
    "    else:\n",
    "        return False\n",
    "    \n",
    "b = list(filter(dictObj,a))\n",
    "b"
   ]
  },
  {
   "cell_type": "code",
   "execution_count": 28,
   "id": "c0f09cf5",
   "metadata": {},
   "outputs": [
    {
     "name": "stdout",
     "output_type": "stream",
     "text": [
      "hello akhil\n",
      "hello fayaz\n"
     ]
    }
   ],
   "source": [
    "# Function\n",
    "# if a group of lines repeatedly reuired then it is not suggested to write them repeatedly instead we can write it in an function\n",
    "# and we can call the function when ever we need there two types of functions in python they are \n",
    "# Builtin functions\n",
    "# user defined functions\n",
    "def wish(name):\n",
    "    print (\"hello\"+\" \"+name)\n",
    "    \n",
    "s = wish('akhil')\n",
    "d = wish('fayaz')\n",
    "s\n",
    "d"
   ]
  },
  {
   "cell_type": "code",
   "execution_count": 31,
   "id": "f332198d",
   "metadata": {},
   "outputs": [
    {
     "name": "stdout",
     "output_type": "stream",
     "text": [
      "8\n",
      "11\n"
     ]
    }
   ],
   "source": [
    "def add(x,y):\n",
    "    a = x\n",
    "    b = y\n",
    "    return a+b\n",
    "\n",
    "d = add(3,5)\n",
    "print(d)\n",
    "print(add(5,6))"
   ]
  },
  {
   "cell_type": "code",
   "execution_count": 32,
   "id": "e4955b95",
   "metadata": {},
   "outputs": [
    {
     "name": "stdout",
     "output_type": "stream",
     "text": [
      "the number is even\n",
      "the number is odd\n",
      "the number is odd\n"
     ]
    }
   ],
   "source": [
    "def even_odd(x):\n",
    "    if x%2 == 0:\n",
    "        print(\"the number is even\")\n",
    "    else:\n",
    "        print(\"the number is odd\")\n",
    "        \n",
    "even_odd(10)\n",
    "even_odd(5)\n",
    "even_odd(7)"
   ]
  },
  {
   "cell_type": "code",
   "execution_count": 36,
   "id": "5145a91f",
   "metadata": {},
   "outputs": [
    {
     "name": "stdout",
     "output_type": "stream",
     "text": [
      "9\n",
      "1\n"
     ]
    }
   ],
   "source": [
    "#returning multiple value\n",
    "def sum_sub(a,b):\n",
    "    add = a+b\n",
    "    sub = a-b\n",
    "    return add,sub\n",
    "\n",
    "a,b = sum_sub(5,4)\n",
    "print(a)\n",
    "print(b)"
   ]
  },
  {
   "cell_type": "code",
   "execution_count": 37,
   "id": "ad67e487",
   "metadata": {},
   "outputs": [],
   "source": [
    "# types of arguments that can be passed in function\n",
    "# positional arguments\n",
    "# key word arguments\n",
    "# default arfguments\n",
    "# variable lenth arguments\n",
    "\n"
   ]
  },
  {
   "cell_type": "code",
   "execution_count": 41,
   "id": "15f2106d",
   "metadata": {},
   "outputs": [
    {
     "name": "stdout",
     "output_type": "stream",
     "text": [
      "hello akhil your proffession is teaching\n",
      "hello teaching your proffession is akhil\n"
     ]
    }
   ],
   "source": [
    "# positional arguments\n",
    "def posArg(name, proffession):\n",
    "    print(\"hello \"+name+\" your proffession is \"+proffession)\n",
    "    \n",
    "posArg(\"akhil\",\"teaching\")\n",
    "#hello akhil your proffession is teaching\n",
    "\n",
    "posArg(\"teaching\",\"akhil\")\n",
    "#hello teaching your proffession is akhil\n",
    "\n",
    "# as defined the out depends upon the postion of the params you are passing to the function , so if the info is sensitive use key word"
   ]
  },
  {
   "cell_type": "code",
   "execution_count": 42,
   "id": "8e57608b",
   "metadata": {},
   "outputs": [
    {
     "name": "stdout",
     "output_type": "stream",
     "text": [
      "hello akhil your proffession is teaching\n",
      "hello akhil your proffession is teamsching\n"
     ]
    }
   ],
   "source": [
    "# key word arguments\n",
    "def posArg(name, proffession):\n",
    "    print(\"hello \"+name+\" your proffession is \"+proffession)\n",
    "    \n",
    "posArg(name = \"akhil\",proffession=\"teaching\")\n",
    "posArg(proffession=\"teaching\",name = \"akhil\")\n",
    "\n",
    "# even if change the positions the output will be as desired"
   ]
  },
  {
   "cell_type": "code",
   "execution_count": 50,
   "id": "e7e584c8",
   "metadata": {},
   "outputs": [
    {
     "name": "stdout",
     "output_type": "stream",
     "text": [
      "hello akhil your proffession is Teach\n"
     ]
    }
   ],
   "source": [
    "# some other examples\n",
    "def posArg(name,profession):\n",
    "    print(\"hello \"+name+\" your proffession is \"+profession)\n",
    "    \n",
    "#posArg(name=\"akhil\",\"teach\") -->error-->positional argument follows keyword argument\n",
    "posArg(\"akhil\",profession=\"Teach\") # valid --> hello akhil your proffession is Teach\n",
    "#posArg(profession=\"teach\",\"akhil\")--> error\n"
   ]
  },
  {
   "cell_type": "code",
   "execution_count": 55,
   "id": "b588fa9d",
   "metadata": {},
   "outputs": [
    {
     "name": "stdout",
     "output_type": "stream",
     "text": [
      "[7, 3, 5]\n"
     ]
    }
   ],
   "source": [
    "def variableLength(*n):\n",
    "    for i in n:\n",
    "        print(i)\n",
    "        \n",
    "c = variableLength([7,3,5])"
   ]
  },
  {
   "cell_type": "markdown",
   "id": "7a7af030",
   "metadata": {},
   "source": [
    "##### "
   ]
  },
  {
   "cell_type": "code",
   "execution_count": 57,
   "id": "83633b9a",
   "metadata": {},
   "outputs": [
    {
     "name": "stdout",
     "output_type": "stream",
     "text": [
      "3\n",
      "(45, 6)\n"
     ]
    }
   ],
   "source": [
    "def vary(x,*n):\n",
    "    print(x)\n",
    "    print(n)\n",
    "\n",
    "vary(3,45,6)"
   ]
  },
  {
   "cell_type": "code",
   "execution_count": 60,
   "id": "259e3367",
   "metadata": {},
   "outputs": [
    {
     "ename": "TypeError",
     "evalue": "vary() missing 1 required keyword-only argument: 'x'",
     "output_type": "error",
     "traceback": [
      "\u001b[0;31m---------------------------------------------------------------------------\u001b[0m",
      "\u001b[0;31mTypeError\u001b[0m                                 Traceback (most recent call last)",
      "\u001b[0;32m/tmp/ipykernel_66771/3874355624.py\u001b[0m in \u001b[0;36m<module>\u001b[0;34m\u001b[0m\n\u001b[1;32m      3\u001b[0m     \u001b[0mprint\u001b[0m\u001b[0;34m(\u001b[0m\u001b[0mx\u001b[0m\u001b[0;34m)\u001b[0m\u001b[0;34m\u001b[0m\u001b[0;34m\u001b[0m\u001b[0m\n\u001b[1;32m      4\u001b[0m \u001b[0;34m\u001b[0m\u001b[0m\n\u001b[0;32m----> 5\u001b[0;31m \u001b[0mvary\u001b[0m\u001b[0;34m(\u001b[0m\u001b[0;36m45\u001b[0m\u001b[0;34m,\u001b[0m\u001b[0;36m6\u001b[0m\u001b[0;34m,\u001b[0m\u001b[0;36m9\u001b[0m\u001b[0;34m)\u001b[0m \u001b[0;31m#--> throws error\u001b[0m\u001b[0;34m\u001b[0m\u001b[0;34m\u001b[0m\u001b[0m\n\u001b[0m",
      "\u001b[0;31mTypeError\u001b[0m: vary() missing 1 required keyword-only argument: 'x'"
     ]
    }
   ],
   "source": [
    "def vary(*n,x):\n",
    "    print(n)\n",
    "    print(x)\n",
    "    \n",
    "vary(45,6,9) #--> throws error vary() missing 1 required keyword-only argument: 'x'"
   ]
  },
  {
   "cell_type": "code",
   "execution_count": null,
   "id": "e4992bd0",
   "metadata": {},
   "outputs": [],
   "source": []
  }
 ],
 "metadata": {
  "kernelspec": {
   "display_name": "Python 3 (ipykernel)",
   "language": "python",
   "name": "python3"
  },
  "language_info": {
   "codemirror_mode": {
    "name": "ipython",
    "version": 3
   },
   "file_extension": ".py",
   "mimetype": "text/x-python",
   "name": "python",
   "nbconvert_exporter": "python",
   "pygments_lexer": "ipython3",
   "version": "3.8.10"
  }
 },
 "nbformat": 4,
 "nbformat_minor": 5
}
