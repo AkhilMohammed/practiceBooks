{
 "cells": [
  {
   "cell_type": "code",
   "execution_count": 3,
   "id": "8bfd2217",
   "metadata": {},
   "outputs": [
    {
     "data": {
      "text/plain": [
       "'\\nList data structures in python\\n1. lists are mutable in nature\\n2. list contains both hetrogenous AND HOMOGENOUS ELEMrnts\\n3. list has indexing\\n4. lists are placed in square bracket\\n5. lists are growing nature , i,e we can perform append operations\\n6. list is collection type python in built data type , list stores the double the value of an array\\n7. lists are ordered data structure\\n'"
      ]
     },
     "execution_count": 3,
     "metadata": {},
     "output_type": "execute_result"
    }
   ],
   "source": [
    "'''\n",
    "List data structures in python\n",
    "1. lists are mutable in nature\n",
    "2. list contains both hetrogenous AND HOMOGENOUS ELEMents\n",
    "3. list has indexing\n",
    "4. lists are placed in square bracket\n",
    "5. lists are growing nature , i,e we can perform append operations\n",
    "6. list is collection type python in built data type , list stores the double the value of an array\n",
    "7. lists are ordered data structure\n",
    "8. Duplicates are allowed\n",
    "'''\n"
   ]
  },
  {
   "cell_type": "code",
   "execution_count": 4,
   "id": "3df977c9",
   "metadata": {},
   "outputs": [],
   "source": [
    "# empty list\n",
    "empty_list = []\n",
    "\n",
    "# list of numbers\n",
    "numbers = [1, 2, 3, 4, 5]\n",
    "\n",
    "# list of cities\n",
    "cities = ['Valencia', 'Munich', 'Madrid']\n",
    "\n",
    "# lists can contain elements of different types as well as duplicated elements\n",
    "elements = [1, 'A', 'A', False]"
   ]
  },
  {
   "cell_type": "code",
   "execution_count": 6,
   "id": "524f802a",
   "metadata": {},
   "outputs": [],
   "source": [
    "#create the list with the list() constructor\n",
    "#Lists can also be created with the inbuilt function list([iterable]) this function takes only one argument that is  iterable  which can be any sequence type\n",
    "import pandas as pd \n",
    "import numpy as np\n",
    "\n",
    "# a string\n",
    "\n",
    "a = list('Amanda')\n",
    "# ['A', 'm', 'a', 'n', 'd', 'a']\n",
    "\n",
    "# a tuple\n",
    "b = list(('Madrid', 'Valencia', 'Munich'))\n",
    "# ['Madrid', 'Valencia', 'Munich']\n",
    "\n",
    "# a dictionary \n",
    "c = list({'hydrogen': 1, 'helium': 2, 'carbon': 6, 'oxygen': 8})\n",
    "# ['hydrogen', 'helium', 'carbon', 'oxygen']\n",
    "\n",
    "# a set\n",
    "d = list({'Madrid', 'Valencia', 'Munich'})\n",
    "# ['Munich', 'Madrid', 'Valencia']\n",
    "\n",
    "# a range object\n",
    "e = list(range(15))\n",
    "# [0, 1, 2, 3, 4, 5, 6, 7, 8, 9, 10, 11, 12, 13, 14]\n",
    "\n",
    "# a numpy array\n",
    "f = list(np.array([1, 2, 3]))\n",
    "# [1, 2, 3]\n",
    "\n",
    "# a pandas series\n",
    "e =list(pd.Series(['a', 'b', 'c']))\n",
    "# ['a', 'b', 'c']"
   ]
  },
  {
   "cell_type": "code",
   "execution_count": 7,
   "id": "9fb31177",
   "metadata": {},
   "outputs": [
    {
     "data": {
      "text/plain": [
       "[]"
      ]
     },
     "execution_count": 7,
     "metadata": {},
     "output_type": "execute_result"
    }
   ],
   "source": [
    "# we can also use the list constructor to create without any params which creates an empty list\n",
    "a = list()\n",
    "a\n",
    "# it creates an empty list as []"
   ]
  },
  {
   "cell_type": "code",
   "execution_count": 8,
   "id": "f348424a",
   "metadata": {},
   "outputs": [
    {
     "ename": "IndexError",
     "evalue": "list index out of range",
     "output_type": "error",
     "traceback": [
      "\u001b[0;31m---------------------------------------------------------------------------\u001b[0m",
      "\u001b[0;31mIndexError\u001b[0m                                Traceback (most recent call last)",
      "\u001b[0;32m/tmp/ipykernel_62041/2157625499.py\u001b[0m in \u001b[0;36m<module>\u001b[0;34m\u001b[0m\n\u001b[1;32m     14\u001b[0m \u001b[0;34m\u001b[0m\u001b[0m\n\u001b[1;32m     15\u001b[0m \u001b[0;31m# try to access an index out of range\u001b[0m\u001b[0;34m\u001b[0m\u001b[0;34m\u001b[0m\u001b[0;34m\u001b[0m\u001b[0m\n\u001b[0;32m---> 16\u001b[0;31m \u001b[0mcities\u001b[0m\u001b[0;34m[\u001b[0m\u001b[0;36m4\u001b[0m\u001b[0;34m]\u001b[0m\u001b[0;34m\u001b[0m\u001b[0;34m\u001b[0m\u001b[0m\n\u001b[0m\u001b[1;32m     17\u001b[0m \u001b[0;31m# IndexError\u001b[0m\u001b[0;34m\u001b[0m\u001b[0;34m\u001b[0m\u001b[0;34m\u001b[0m\u001b[0m\n",
      "\u001b[0;31mIndexError\u001b[0m: list index out of range"
     ]
    }
   ],
   "source": [
    "#Acess elements in list \n",
    "# the elements in list are called as slices and they are accessed by slice operator the slice operator syntax in python is a[:]\n",
    "# the indexing the python list starts with 0 and goes till n-1\n",
    "# list of cities\n",
    "cities = ['Madrid', 'Munich', 'Valencia', 'Stuttgart']\n",
    "\n",
    "# access the first element of the list\n",
    "cities[0]\n",
    "# 'Madrid'\n",
    "\n",
    "# access the last element of the list\n",
    "cities[3]\n",
    "# 'Stuttgart'\n",
    "\n",
    "# try to access an index out of range\n",
    "cities[4]\n",
    "# IndexError\n",
    "#an index error may raised when we try to acces the index which is not present in the list"
   ]
  },
  {
   "cell_type": "code",
   "execution_count": 9,
   "id": "035c5cb2",
   "metadata": {},
   "outputs": [
    {
     "ename": "IndexError",
     "evalue": "list index out of range",
     "output_type": "error",
     "traceback": [
      "\u001b[0;31m---------------------------------------------------------------------------\u001b[0m",
      "\u001b[0;31mIndexError\u001b[0m                                Traceback (most recent call last)",
      "\u001b[0;32m/tmp/ipykernel_62041/1631699342.py\u001b[0m in \u001b[0;36m<module>\u001b[0;34m\u001b[0m\n\u001b[1;32m      9\u001b[0m \u001b[0;31m#this gives output as Guntur\u001b[0m\u001b[0;34m\u001b[0m\u001b[0;34m\u001b[0m\u001b[0;34m\u001b[0m\u001b[0m\n\u001b[1;32m     10\u001b[0m \u001b[0;34m\u001b[0m\u001b[0m\n\u001b[0;32m---> 11\u001b[0;31m \u001b[0mc\u001b[0m\u001b[0;34m=\u001b[0m \u001b[0mcities\u001b[0m\u001b[0;34m[\u001b[0m\u001b[0;34m-\u001b[0m\u001b[0;36m6\u001b[0m\u001b[0;34m]\u001b[0m\u001b[0;34m\u001b[0m\u001b[0;34m\u001b[0m\u001b[0m\n\u001b[0m\u001b[1;32m     12\u001b[0m \u001b[0;31m#error\u001b[0m\u001b[0;34m\u001b[0m\u001b[0;34m\u001b[0m\u001b[0;34m\u001b[0m\u001b[0m\n",
      "\u001b[0;31mIndexError\u001b[0m: list index out of range"
     ]
    }
   ],
   "source": [
    "#we can also access the elements of the list with the negative indexing\n",
    "cities = ['Mandrid', 'Munich', 'Delhi', 'Guntur']\n",
    "\n",
    "# the negative indexing in python starts with -1 still the last value\n",
    "a = cities[-4]\n",
    "# this gives 'Madrid' as output\n",
    "\n",
    "b= cities[-1]\n",
    "#this gives output as Guntur\n",
    "\n",
    "c= cities[-6]\n",
    "#error"
   ]
  },
  {
   "cell_type": "code",
   "execution_count": 13,
   "id": "7d4e0f72",
   "metadata": {},
   "outputs": [
    {
     "data": {
      "text/plain": [
       "[1, 3, 5, 7, 9]"
      ]
     },
     "execution_count": 13,
     "metadata": {},
     "output_type": "execute_result"
    }
   ],
   "source": [
    "# to access the elements we may need to employ python slice operator\n",
    "#[start:stop:step]\n",
    "\n",
    "list = [1,2,3,4,5,6,7,8,9,10]\n",
    "\n",
    "#this will print elements from 1 to 5, 0 is the start index and upto stop-1\n",
    "a = list[0:5]\n",
    "a\n",
    "\n",
    "# this print all the elements in the list\n",
    "b = list[:]\n",
    "b\n",
    "\n",
    "# this will give elements from start to 6-1 index that is 5 \n",
    "c = list[:6]\n",
    "c\n",
    "\n",
    "# this will give the element with step to that is it will skip every second element\n",
    "d = list[::2]\n",
    "d\n"
   ]
  },
  {
   "cell_type": "code",
   "execution_count": 15,
   "id": "4859a8ab",
   "metadata": {},
   "outputs": [
    {
     "ename": "TypeError",
     "evalue": "'set' object is not subscriptable",
     "output_type": "error",
     "traceback": [
      "\u001b[0;31m---------------------------------------------------------------------------\u001b[0m",
      "\u001b[0;31mTypeError\u001b[0m                                 Traceback (most recent call last)",
      "\u001b[0;32m/tmp/ipykernel_62041/3767502603.py\u001b[0m in \u001b[0;36m<module>\u001b[0;34m\u001b[0m\n\u001b[1;32m     11\u001b[0m \u001b[0;34m\u001b[0m\u001b[0m\n\u001b[1;32m     12\u001b[0m \u001b[0;31m# we can not access an item of the set because sets are unordered containers\u001b[0m\u001b[0;34m\u001b[0m\u001b[0;34m\u001b[0m\u001b[0;34m\u001b[0m\u001b[0m\n\u001b[0;32m---> 13\u001b[0;31m \u001b[0mnumbers_set\u001b[0m\u001b[0;34m[\u001b[0m\u001b[0;36m0\u001b[0m\u001b[0;34m]\u001b[0m\u001b[0;34m\u001b[0m\u001b[0;34m\u001b[0m\u001b[0m\n\u001b[0m\u001b[1;32m     14\u001b[0m \u001b[0;31m# TypeError\u001b[0m\u001b[0;34m\u001b[0m\u001b[0;34m\u001b[0m\u001b[0;34m\u001b[0m\u001b[0m\n",
      "\u001b[0;31mTypeError\u001b[0m: 'set' object is not subscriptable"
     ]
    }
   ],
   "source": [
    "# remember that we can access and slice elements of list because they are ordered, wher as set we cant access them ny indexing\n",
    "# list of numbers\n",
    "numbers_list = [1, 2, 3]\n",
    "\n",
    "# we can access an item of the list because lists are ordered containers\n",
    "numbers_list[0]\n",
    "# 1\n",
    "\n",
    "# set of numbers\n",
    "numbers_set = {1, 2, 3}\n",
    "\n",
    "# we can not access an item of the set because sets are unordered containers\n",
    "numbers_set[0]\n",
    "# TypeError"
   ]
  },
  {
   "cell_type": "markdown",
   "id": "0388007e",
   "metadata": {},
   "source": [
    "4. Modify items in a list\n",
    "\n",
    "We can modify an item of a list by giving the index or indexes in square brackets on the left-hand side of the assignment operator (as we access or slice a list), and the new values on the right-hand side.\n",
    "\n",
    "The code below shows how we can update a single or multiple elements in a list as explained before."
   ]
  },
  {
   "cell_type": "code",
   "execution_count": 17,
   "id": "7350c695",
   "metadata": {},
   "outputs": [
    {
     "name": "stdout",
     "output_type": "stream",
     "text": [
      "['table', 'shelf', 'lamp', 'closet', 'bed']\n",
      "['pillow', 'desk', 'lamp', 'closet', 'bed']\n"
     ]
    }
   ],
   "source": [
    "# list of products\n",
    "products = ['table', 'chair', 'lamp', 'closet', 'bed']\n",
    "\n",
    "# modify a single item\n",
    "products[1] = 'shelf'\n",
    "\n",
    "# print products to observe the modification\n",
    "print(products)\n",
    "# ['table', 'shelf', 'lamp', 'closet', 'bed']\n",
    "\n",
    "# modify multiple items - modification of indexes 0 and 1\n",
    "products[:2] = ['pillow', 'desk']\n",
    "\n",
    "# print products to observe the modification\n",
    "print(products)\n",
    "# ['pillow', 'desk', 'lamp', 'closet', 'bed']"
   ]
  },
  {
   "cell_type": "code",
   "execution_count": 20,
   "id": "895f40bc",
   "metadata": {},
   "outputs": [],
   "source": [
    "#Remove elements from list \n",
    "# there are three different ways to remove elements from a list\n",
    "#1. del list[0]\n",
    "#2. list.remove(2)\n",
    "#3. list.pop()\n",
    "\n",
    "products = [\"abc\",\"asc\",\"asv\",\"arf\"]\n",
    "\n",
    "del products[-1]\n",
    "#products\n",
    "#['abc', 'asc', 'asv']\n",
    "\n",
    "del products[:2]\n",
    "#products\n",
    "#['asv']\n",
    "\n",
    "del products\n",
    "#name error"
   ]
  },
  {
   "cell_type": "code",
   "execution_count": 21,
   "id": "55693439",
   "metadata": {},
   "outputs": [
    {
     "data": {
      "text/plain": [
       "['guntur', 'hyd']"
      ]
     },
     "execution_count": 21,
     "metadata": {},
     "output_type": "execute_result"
    }
   ],
   "source": [
    "#removing using the pop method\n",
    "cities = ['guntur', 'hyd', 'ogl']\n",
    "\n",
    "cities.pop()\n",
    "# it gives ['guntur', 'hyd']\n",
    "\n",
    "cities.pop(1)\n",
    "#['guntur']\n",
    "\n",
    "# it removes the element as per the index given and even we store the popped elements in a variable \n",
    "# pop method is used in data structure such as queue and stack"
   ]
  },
  {
   "cell_type": "code",
   "execution_count": 23,
   "id": "9ba4c68e",
   "metadata": {},
   "outputs": [],
   "source": [
    "# removing using remove method\n",
    "cities = ['guntur', 'hyd', 'ogl']\n",
    "\n",
    "cities.remove('ogl')\n",
    "#['guntur', 'hyd']\n",
    "\n"
   ]
  },
  {
   "cell_type": "code",
   "execution_count": 45,
   "id": "81358db4",
   "metadata": {},
   "outputs": [],
   "source": [
    "# insert an element in list \n",
    "# we can insert the elements in list by two kinds\n",
    "#1. insert method\n",
    "#2 . append method\n",
    "# insert method inserts the element at a particular index given where as the append add the element at the end\n",
    "product = [\"car\", \"bike\", \"comb\", \"busc\", \"choc\"]\n",
    "\n",
    "product.append('flute')\n",
    "#['car', 'bike', 'comb', 'busc', 'choc', 'flute']\n",
    "\n",
    "product.append(['car', 'mice'])\n",
    "#[\"car\", \"bike\", \"comb\", \"busc\", \"choc\",['car', 'mice']]\n",
    "\n",
    "# product.append(\"the\", \"ub\")\n",
    "# throws error as we cant add two elements\n",
    "\n",
    "product.insert(3,\"chicken\")\n",
    "#['car', 'bike', 'comb', 'chicken', 'busc', 'choc', 'flute']\n",
    "\n",
    "product.insert(23,\"hen\")\n",
    "#['car', 'bike', 'comb', 'chicken', 'busc', 'choc', 'flute', 'hen'] if the index is more than the len it will be added at the last \n",
    "\n",
    "product.insert(-1,\"ghr\")\n",
    "#['car', 'bike', 'comb', 'chicken', 'busc', 'choc', 'ghr', 'flute', 'hen'] its not added at the last elemnt\n",
    "\n",
    "\n",
    "product.insert(len(product),\"junk\")\n",
    "## insert an element at the end of the list\n"
   ]
  },
  {
   "cell_type": "markdown",
   "id": "badd00c4",
   "metadata": {},
   "source": [
    "# sort a list\n",
    "The sorted function\n",
    "\n",
    "To sort elements of a list, we can use both the sorted function and the sort method. The sorted function returns a sorted list, but the list provided as input remains unchanged.\n",
    "\n",
    "This function has the following syntax:\n",
    "\n",
    "    sorted(iterable[, key][, reverse])\n",
    "\n",
    "The first parameter is the iterable that we want to sort (in this case a list). The two following parameters, key and reverse, are optional, allowing us more complex sorting. We will see that later on!\n",
    "The sort method\n",
    "\n",
    "Unlike the sorted function, the sort method sorts the list in-place, returning None.\n",
    "\n",
    "The sort method has the following syntax with two optional parameters as well: key and reverse.\n",
    "\n",
    "    list.sort(key=…, reverse=…)\n",
    "\n",
    "The code below shows how we can use both the sorted function and the sort method to sort the elements of a list."
   ]
  },
  {
   "cell_type": "code",
   "execution_count": 46,
   "id": "b33729d7",
   "metadata": {},
   "outputs": [
    {
     "name": "stdout",
     "output_type": "stream",
     "text": [
      "[3, 7, 1, 5, 4]\n",
      "[1, 3, 4, 5, 7]\n",
      "['a', 'b', 'c', 'd']\n",
      "None\n"
     ]
    }
   ],
   "source": [
    "# sorted function - returns a sorted list\n",
    "numbers = [3, 7, 1, 5, 4]\n",
    "numbers_sorted = sorted(numbers)\n",
    "\n",
    "# numbers is not modified\n",
    "print(numbers)\n",
    "# [3, 7, 1, 5, 4]\n",
    "\n",
    "# sorted function returns a sorted list\n",
    "print(numbers_sorted)\n",
    "# [1, 3, 4, 5, 7]\n",
    "\n",
    "\n",
    "# sort method - modifies the list in-place and returns None\n",
    "letters = ['c', 'b', 'd', 'a']\n",
    "letters_sorted = letters.sort()\n",
    "\n",
    "# letters is modified\n",
    "print(letters)\n",
    "# ['a', 'b', 'c', 'd']\n",
    "\n",
    "# sort method returns None\n",
    "print(letters_sorted)\n",
    "# None"
   ]
  },
  {
   "cell_type": "markdown",
   "id": "9ec61c14",
   "metadata": {},
   "source": [
    "# Additional parameters: reverse and key\n",
    "\n",
    "The sorted function and the sort method sort the elements in ascending order, unless we indicate otherwise, providing the parameter reverse=True."
   ]
  },
  {
   "cell_type": "code",
   "execution_count": 47,
   "id": "b3fd89fd",
   "metadata": {},
   "outputs": [
    {
     "name": "stdout",
     "output_type": "stream",
     "text": [
      "[1, 2, 3, 8, 9]\n",
      "[9, 8, 3, 2, 1]\n"
     ]
    }
   ],
   "source": [
    "numbers = [2, 8, 3, 1, 9]\n",
    "\n",
    "numbers_ascending = sorted(numbers)\n",
    "print(numbers_ascending)\n",
    "# [1, 2, 3, 8, 9]\n",
    "\n",
    "numbers_descending = sorted(numbers, reverse=True)\n",
    "print(numbers_descending)\n",
    "# [9, 8, 3, 2, 1]"
   ]
  },
  {
   "cell_type": "markdown",
   "id": "4a9828a6",
   "metadata": {},
   "source": [
    "# Another important parameter is key. We can sort a list based on the value returned by the function provided in the key parameter. We apply the function to each element of the list, and then we sort the elements based on the value returned by this function. The key parameter can contain built-in, anonymous, or normal functions as well as methods.\n",
    "\n",
    "In the following examples, we use the key parameter to:"
   ]
  },
  {
   "cell_type": "code",
   "execution_count": 48,
   "id": "d91df8e2",
   "metadata": {},
   "outputs": [
    {
     "name": "stdout",
     "output_type": "stream",
     "text": [
      "['Rome', 'Paris', 'Munich', 'Barcelona']\n",
      "['Barcelona', 'Munich', 'Paris', 'Rome']\n"
     ]
    }
   ],
   "source": [
    "cities = ['Munich', 'Rome', 'Barcelona', 'Paris']\n",
    "\n",
    "# Sort strings by length ascending order\n",
    "cities_sorted = sorted(cities, key=len)\n",
    "print(cities_sorted)\n",
    "# ['Rome', 'Paris', 'Munich', 'Barcelona']\n",
    "\n",
    "# Sort strings by length descending order\n",
    "cities_sorted_r = sorted(cities, key=len, reverse=True)\n",
    "print(cities_sorted_r)\n",
    "# ['Barcelona', 'Munich', 'Paris', 'Rome']"
   ]
  },
  {
   "cell_type": "code",
   "execution_count": 49,
   "id": "1dc5fdf3",
   "metadata": {},
   "outputs": [
    {
     "name": "stdout",
     "output_type": "stream",
     "text": [
      "['Li', 'Ana', 'Paula', 'Amanda', 'Amaranta']\n"
     ]
    }
   ],
   "source": [
    "# function defined with def \n",
    "def num_vowel(x):\n",
    "  cnt = 0\n",
    "  for char in x.lower():\n",
    "    if char in ['a', 'e', 'i', 'o', 'u']:\n",
    "      cnt += 1\n",
    "  return cnt\n",
    "\n",
    "names = ['Paula', 'Amanda', 'Ana', 'Amaranta', 'Li']\n",
    "\n",
    "names_sorted = sorted(names, key=num_vowel)\n",
    "\n",
    "print(names_sorted)\n",
    "# ['Li', 'Ana', 'Paula', 'Amanda', 'Amaranta']"
   ]
  },
  {
   "cell_type": "code",
   "execution_count": 60,
   "id": "07fa21a4",
   "metadata": {},
   "outputs": [
    {
     "name": "stdout",
     "output_type": "stream",
     "text": [
      "sgsa 1\n",
      "sgsa 2\n",
      "sgsa 3\n",
      "sgsa 4\n",
      "sgsa 5\n",
      "[1, 2, 3, 4, 5]\n"
     ]
    }
   ],
   "source": [
    "# function defined with def \n",
    "def num_vowel(x):\n",
    "  print(\"sgsa\",x)\n",
    "  return x\n",
    "\n",
    "  #return cnt\n",
    "\n",
    "names = {'Paula':1, 'Amanda':2, 'Ana':3, 'Amaranta':4, 'Li':5}\n",
    "\n",
    "names_sorted = sorted(names.values(), key=num_vowel)\n",
    "\n",
    "print(names_sorted)\n",
    "# ['Li', 'Ana', 'Paula', 'Amanda', 'Amaranta']"
   ]
  },
  {
   "cell_type": "code",
   "execution_count": 61,
   "id": "12153187",
   "metadata": {},
   "outputs": [
    {
     "name": "stdout",
     "output_type": "stream",
     "text": [
      "[['carpet', 100, 1], ['table', 150, 2], ['chair', 50, 4], ['painting', 200, 7]]\n"
     ]
    }
   ],
   "source": [
    "# sort nested list by the third value\n",
    "# list of lists [item,price,quantity]\n",
    "\n",
    "shop_list = [['table', 150, 2], ['chair', 50, 4], ['carpet', 100, 1], ['painting', 200, 7]]\n",
    "\n",
    "shop_list_sorted = sorted(shop_list, key=lambda x: x[2])\n",
    "print(shop_list_sorted)\n",
    "# [['carpet', 100, 1], ['table', 150, 2], ['chair', 50, 4], ['painting', 200, 7]]"
   ]
  },
  {
   "cell_type": "markdown",
   "id": "0e6cc243",
   "metadata": {},
   "source": [
    "The reversed function\n",
    "\n",
    "To reverse the elements of a list, we can use both the reversed(seq) function and the list.reverse() method. The reversed function returns the reversed iterator of the given sequence, remaining the sequence provided as input unchanged. In comparison with the sorted function, the reversed function does not return a list so if we want to obtain a list, we have to use the list() constructor."
   ]
  },
  {
   "cell_type": "code",
   "execution_count": 62,
   "id": "970adbae",
   "metadata": {},
   "outputs": [
    {
     "ename": "TypeError",
     "evalue": "'list' object is not callable",
     "output_type": "error",
     "traceback": [
      "\u001b[0;31m---------------------------------------------------------------------------\u001b[0m",
      "\u001b[0;31mTypeError\u001b[0m                                 Traceback (most recent call last)",
      "\u001b[0;32m/tmp/ipykernel_62041/1610150589.py\u001b[0m in \u001b[0;36m<module>\u001b[0;34m\u001b[0m\n\u001b[1;32m      3\u001b[0m \u001b[0;34m\u001b[0m\u001b[0m\n\u001b[1;32m      4\u001b[0m \u001b[0;31m# reversed list\u001b[0m\u001b[0;34m\u001b[0m\u001b[0;34m\u001b[0m\u001b[0;34m\u001b[0m\u001b[0m\n\u001b[0;32m----> 5\u001b[0;31m \u001b[0mproducts_reversed\u001b[0m \u001b[0;34m=\u001b[0m \u001b[0mlist\u001b[0m\u001b[0;34m(\u001b[0m\u001b[0mreversed\u001b[0m\u001b[0;34m(\u001b[0m\u001b[0mproducts\u001b[0m\u001b[0;34m)\u001b[0m\u001b[0;34m)\u001b[0m\u001b[0;34m\u001b[0m\u001b[0;34m\u001b[0m\u001b[0m\n\u001b[0m\u001b[1;32m      6\u001b[0m \u001b[0;34m\u001b[0m\u001b[0m\n\u001b[1;32m      7\u001b[0m \u001b[0mprint\u001b[0m\u001b[0;34m(\u001b[0m\u001b[0mproducts_reversed\u001b[0m\u001b[0;34m)\u001b[0m\u001b[0;34m\u001b[0m\u001b[0;34m\u001b[0m\u001b[0m\n",
      "\u001b[0;31mTypeError\u001b[0m: 'list' object is not callable"
     ]
    }
   ],
   "source": [
    "# list of products \n",
    "products = ['table', 'chair', 'lamp', 'closet', 'bed']\n",
    "\n",
    "# reversed list\n",
    "products_reversed = list(reversed(products))\n",
    "\n",
    "print(products_reversed)\n",
    "# ['bed', 'closet', 'lamp', 'chair', 'table']"
   ]
  },
  {
   "cell_type": "markdown",
   "id": "b320fe50",
   "metadata": {},
   "source": [
    "#concantinate the list\n",
    "#There are multiple ways to join two lists in Python. The + operator is one of the simplest ways; in fact, we can also use this operator to concatenate another type of containers such as strings or tuples."
   ]
  },
  {
   "cell_type": "code",
   "execution_count": 63,
   "id": "1521f108",
   "metadata": {},
   "outputs": [
    {
     "name": "stdout",
     "output_type": "stream",
     "text": [
      "['table', 'chair', 'lamp', 'closet', 'bed']\n",
      "Amanda Iglesias\n",
      "('table', 'chair', 'lamp', 'closet', 'bed')\n"
     ]
    }
   ],
   "source": [
    "# list of products 1\n",
    "products_1 = ['table', 'chair', 'lamp']\n",
    "\n",
    "# list of products 2 \n",
    "products_2 = ['closet', 'bed']\n",
    "\n",
    "# list concatenation using + operator\n",
    "products_total = products_1 + products_2\n",
    "print(products_total)\n",
    "# ['table', 'chair', 'lamp', 'closet', 'bed']\n",
    "\n",
    "# we can also concatenate strings and tuples using + operator\n",
    "print('Amanda ' + 'Iglesias')\n",
    "# Amanda Iglesias\n",
    "\n",
    "print(('table', 'chair', 'lamp') + ('closet', 'bed'))\n",
    "# ('table', 'chair', 'lamp', 'closet', 'bed')"
   ]
  },
  {
   "cell_type": "code",
   "execution_count": 64,
   "id": "9c1c0c60",
   "metadata": {},
   "outputs": [
    {
     "name": "stdout",
     "output_type": "stream",
     "text": [
      "['table', 'chair', 'lamp', 'closet', 'bed']\n",
      "['closet', 'bed']\n",
      "None\n"
     ]
    }
   ],
   "source": [
    "# with extend\n",
    "# list of products 1\n",
    "products_1 = ['table', 'chair', 'lamp']\n",
    "\n",
    "# list of products 2 \n",
    "products_2 = ['closet', 'bed']\n",
    "\n",
    "# list concatenation using list.extend() method\n",
    "returned = products_1.extend(products_2)\n",
    "\n",
    "# list products_1 is modified in-place\n",
    "print(products_1)\n",
    "# ['table', 'chair', 'lamp', 'closet', 'bed']\n",
    "\n",
    "# list products_2 remains unchanged\n",
    "print(products_2)\n",
    "# ['closet', 'bed']\n",
    "\n",
    "# the list.extend() method returns None\n",
    "print(returned)\n",
    "# None"
   ]
  },
  {
   "cell_type": "code",
   "execution_count": 65,
   "id": "d5a54d5e",
   "metadata": {},
   "outputs": [
    {
     "data": {
      "text/plain": [
       "True"
      ]
     },
     "execution_count": 65,
     "metadata": {},
     "output_type": "execute_result"
    }
   ],
   "source": [
    "# check whether an element present in list or not\n",
    "# to chheck whether an element present in a given list or not we make use of the membership operator in\n",
    "#    in → Evaluates to True if the object on the left side is included in the object on the right side.\n",
    " #   not in → Evaluates to True if the object on the left side is not included in the object on the right side.\n",
    "    \n",
    "# list of numbers\n",
    "numbers = [1, 2, 3, 4, 5]\n",
    "\n",
    "# membership operators\n",
    "# check if the number 1 exists in the list\n",
    "1 in numbers\n",
    "# True\n",
    "\n",
    "# check if the number 6 exists in the list\n",
    "6 in numbers\n",
    "# False \n",
    "\n",
    "# check if the number 2 does not exists in the list\n",
    "2 not in numbers\n",
    "# False\n",
    "\n",
    "# check if the number 7 does not exists in the list\n",
    "7 not in numbers\n",
    "# True"
   ]
  },
  {
   "cell_type": "markdown",
   "id": "62779df3",
   "metadata": {},
   "source": [
    "# copy list :\n",
    "To copy a list, we can simply use the list.copy() method. This method returns a shallow copy of the list. We have to be careful with shallow copies, since if your list contains another container-objects like other lists, tuples, or sets, they will be referenced again and not duplicated."
   ]
  },
  {
   "cell_type": "code",
   "execution_count": 66,
   "id": "5d3076e4",
   "metadata": {},
   "outputs": [
    {
     "name": "stdout",
     "output_type": "stream",
     "text": [
      "['table', 'lamp', 'chair', 'shelf', 'closet', 'bed']\n",
      "['computer', 'lamp', 'chair', 'shelf', 'closet', 'bed']\n",
      "[['table', 35], ['lamp', 15], ['chair', 25], ['shelf', 35], ['closet', 150], ['bed', 250]]\n"
     ]
    }
   ],
   "source": [
    "### list of strings ###\n",
    "# a list with products\n",
    "products = ['table', 'lamp', 'chair', 'shelf', 'closet', 'bed']\n",
    "\n",
    "# create a shallow copy of the list\n",
    "products_2 = products.copy()\n",
    "\n",
    "# modify an element of the new list\n",
    "products_2[0] = 'computer'\n",
    "\n",
    "# the modification in products_2 is not observed in products since 'computer' is a string (primitive type)\n",
    "print(products)\n",
    "# ['table', 'lamp', 'chair', 'shelf', 'closet', 'bed']\n",
    "\n",
    "print(products_2)\n",
    "# ['computer', 'lamp', 'chair', 'shelf', 'closet', 'bed']\n",
    "\n",
    "\n",
    "### nested list ###\n",
    "# nested list with products and prices\n",
    "products_prices = [['table', 40], ['lamp', 15], ['chair', 25], ['shelf', 35], ['closet', 150], ['bed', 250]]\n",
    "\n",
    "# create a shallow copy of the nested list\n",
    "products_prices_2 = products_prices.copy()\n",
    "\n",
    "# modify the price of a table in the shallow copy\n",
    "products_prices_2[0][1] = 35\n",
    "\n",
    "# the modification in products_prices_2 is observed in products_prices \n",
    "# since the list containing the product and the price is referenced and not duplicated\n",
    "print(products_prices)\n",
    "# [['table', 35], ['lamp', 15], ['chair', 25], ['shelf', 35], ['closet', 150], ['bed', 250]]"
   ]
  },
  {
   "cell_type": "code",
   "execution_count": 67,
   "id": "7e32b011",
   "metadata": {},
   "outputs": [
    {
     "name": "stdout",
     "output_type": "stream",
     "text": [
      "[['table', 40], ['lamp', 15], ['chair', 25], ['shelf', 35], ['closet', 150], ['bed', 250]]\n",
      "[['table', 35], ['lamp', 15], ['chair', 25], ['shelf', 35], ['closet', 150], ['bed', 250]]\n"
     ]
    }
   ],
   "source": [
    "#To avoid this problem, we can create a deep copy using the copy.deepcopy(x) function (defined in the copy module) as follows:\n",
    "import copy\n",
    "\n",
    "# nested list with products and prices\n",
    "products_prices = [['table', 40], ['lamp', 15], ['chair', 25], ['shelf', 35], ['closet', 150], ['bed', 250]]\n",
    "\n",
    "# create a deep copy\n",
    "products_prices_2 = copy.deepcopy(products_prices)\n",
    "\n",
    "# modify the price of a table\n",
    "products_prices_2[0][1] = 35\n",
    "\n",
    "# the modification in products_prices_2 is NOT observed in products_prices \n",
    "# since we are working with a deep copy\n",
    "print(products_prices)\n",
    "# [['table', 40], ['lamp', 15], ['chair', 25], ['shelf', 35], ['closet', 150], ['bed', 250]]\n",
    "\n",
    "print(products_prices_2)\n",
    "# [['table', 35], ['lamp', 15], ['chair', 25], ['shelf', 35], ['closet', 150], ['bed', 250]]"
   ]
  },
  {
   "cell_type": "markdown",
   "id": "a3fe5d14",
   "metadata": {},
   "source": [
    "# The difference between shallow copies and deep copies is only relevant when the list contains other objects like lists (nested lists), since those objects will be referenced instead of duplicated (shallow copy). To create a fully independent clone of the original list, we have to make a deep copy.\n",
    "\n",
    "It is important to bear in mind that the = operator does not make a copy of the list. It is just another name to refer to the same list, meaning any modification to the new list is reflected in the original one."
   ]
  },
  {
   "cell_type": "code",
   "execution_count": 68,
   "id": "869c9fe6",
   "metadata": {},
   "outputs": [
    {
     "name": "stdout",
     "output_type": "stream",
     "text": [
      "['Valencia', 'Barcelona', 'Madrid']\n"
     ]
    }
   ],
   "source": [
    "#list comprehensation\n",
    "# list of cities\n",
    "cities = ['valencia', 'barcelona', 'madrid']\n",
    "\n",
    "# new list with capitalized names\n",
    "cities_capitalized = [city.capitalize() for city in cities]\n",
    "\n",
    "print(cities_capitalized)\n",
    "# ['Valencia', 'Barcelona', 'Madrid']"
   ]
  },
  {
   "cell_type": "code",
   "execution_count": 70,
   "id": "f04df058",
   "metadata": {},
   "outputs": [
    {
     "name": "stdout",
     "output_type": "stream",
     "text": [
      "['Valencia', 'Barcelona']\n"
     ]
    }
   ],
   "source": [
    "# list of cities\n",
    "cities = ['valencia', 'barcelona', 'madrid']\n",
    "\n",
    "# new list with capitalized names\n",
    "cities_capitalized = [city.capitalize() for city in cities if len(city)>6] #with condition\n",
    "\n",
    "print(cities_capitalized)\n",
    "# ['Valencia', 'Barcelona']"
   ]
  },
  {
   "cell_type": "code",
   "execution_count": 72,
   "id": "c5e412b9",
   "metadata": {},
   "outputs": [
    {
     "data": {
      "text/plain": [
       "2"
      ]
     },
     "execution_count": 72,
     "metadata": {},
     "output_type": "execute_result"
    }
   ],
   "source": [
    "a =[10,2,34,5,56,54,67,32]\n",
    "min(a)"
   ]
  },
  {
   "cell_type": "code",
   "execution_count": 73,
   "id": "abcd28b8",
   "metadata": {},
   "outputs": [
    {
     "data": {
      "text/plain": [
       "67"
      ]
     },
     "execution_count": 73,
     "metadata": {},
     "output_type": "execute_result"
    }
   ],
   "source": [
    "max(a)"
   ]
  },
  {
   "cell_type": "code",
   "execution_count": 74,
   "id": "74544998",
   "metadata": {},
   "outputs": [
    {
     "data": {
      "text/plain": [
       "260"
      ]
     },
     "execution_count": 74,
     "metadata": {},
     "output_type": "execute_result"
    }
   ],
   "source": [
    "sum(a)"
   ]
  },
  {
   "cell_type": "code",
   "execution_count": 79,
   "id": "815a62bc",
   "metadata": {},
   "outputs": [
    {
     "data": {
      "text/plain": [
       "32.5"
      ]
     },
     "execution_count": 79,
     "metadata": {},
     "output_type": "execute_result"
    }
   ],
   "source": [
    "avg = sum(a)/len(a)\n",
    "avg"
   ]
  },
  {
   "cell_type": "code",
   "execution_count": 80,
   "id": "575605e2",
   "metadata": {},
   "outputs": [
    {
     "data": {
      "text/plain": [
       "1"
      ]
     },
     "execution_count": 80,
     "metadata": {},
     "output_type": "execute_result"
    }
   ],
   "source": [
    "a.count(2)"
   ]
  },
  {
   "cell_type": "code",
   "execution_count": 81,
   "id": "8b04aefa",
   "metadata": {},
   "outputs": [
    {
     "data": {
      "text/plain": [
       "0"
      ]
     },
     "execution_count": 81,
     "metadata": {},
     "output_type": "execute_result"
    }
   ],
   "source": [
    "a.count(33)"
   ]
  },
  {
   "cell_type": "code",
   "execution_count": 6,
   "id": "ebc5bac5",
   "metadata": {},
   "outputs": [],
   "source": [
    "import datetime as dt\n",
    "import pandas as pd"
   ]
  },
  {
   "cell_type": "code",
   "execution_count": 7,
   "id": "c53babe9",
   "metadata": {},
   "outputs": [],
   "source": [
    "fromDate = '2021-07-10'\n",
    "toDate = '2021-07-29'\n",
    "daterange = pd.date_range(fromDate,toDate)"
   ]
  },
  {
   "cell_type": "code",
   "execution_count": 17,
   "id": "f8081818",
   "metadata": {},
   "outputs": [
    {
     "name": "stdout",
     "output_type": "stream",
     "text": [
      "Saturday\n",
      "2021-07-10\n",
      "Sunday\n",
      "2021-07-11\n",
      "Monday\n",
      "2021-07-12\n",
      "Tuesday\n",
      "2021-07-13\n",
      "Wednesday\n",
      "2021-07-14\n",
      "Thursday\n",
      "2021-07-15\n",
      "Friday\n",
      "2021-07-16\n",
      "Saturday\n",
      "2021-07-17\n",
      "Sunday\n",
      "2021-07-18\n",
      "Monday\n",
      "2021-07-19\n",
      "Tuesday\n",
      "2021-07-20\n",
      "Wednesday\n",
      "2021-07-21\n",
      "Thursday\n",
      "2021-07-22\n",
      "Friday\n",
      "2021-07-23\n",
      "Saturday\n",
      "2021-07-24\n",
      "Sunday\n",
      "2021-07-25\n",
      "Monday\n",
      "2021-07-26\n",
      "Tuesday\n",
      "2021-07-27\n",
      "Wednesday\n",
      "2021-07-28\n",
      "Thursday\n",
      "2021-07-29\n"
     ]
    }
   ],
   "source": [
    "for singleDate in daterange:\n",
    "    print((singleDate.strftime('%A')))\n",
    "    print(singleDate.strftime('%Y-%m-%d'))"
   ]
  },
  {
   "cell_type": "code",
   "execution_count": 2,
   "id": "ea1697a9",
   "metadata": {},
   "outputs": [
    {
     "data": {
      "text/plain": [
       "'gjlajdk'"
      ]
     },
     "execution_count": 2,
     "metadata": {},
     "output_type": "execute_result"
    }
   ],
   "source": [
    "a = \"Gjlajdk\"\n",
    "a.lower()"
   ]
  },
  {
   "cell_type": "code",
   "execution_count": 13,
   "id": "108f884e",
   "metadata": {},
   "outputs": [],
   "source": [
    "lastconnection = dt.datetime.strptime(\"21/12/2008\", \"%d/%m/%Y\").strftime('%Y-%m-%d')"
   ]
  },
  {
   "cell_type": "code",
   "execution_count": 14,
   "id": "40cacb79",
   "metadata": {},
   "outputs": [
    {
     "data": {
      "text/plain": [
       "'2008-12-21'"
      ]
     },
     "execution_count": 14,
     "metadata": {},
     "output_type": "execute_result"
    }
   ],
   "source": [
    "lastconnection"
   ]
  },
  {
   "cell_type": "code",
   "execution_count": null,
   "id": "c6f1f961",
   "metadata": {},
   "outputs": [],
   "source": []
  }
 ],
 "metadata": {
  "kernelspec": {
   "display_name": "Python 3 (ipykernel)",
   "language": "python",
   "name": "python3"
  },
  "language_info": {
   "codemirror_mode": {
    "name": "ipython",
    "version": 3
   },
   "file_extension": ".py",
   "mimetype": "text/x-python",
   "name": "python",
   "nbconvert_exporter": "python",
   "pygments_lexer": "ipython3",
   "version": "3.8.10"
  }
 },
 "nbformat": 4,
 "nbformat_minor": 5
}
